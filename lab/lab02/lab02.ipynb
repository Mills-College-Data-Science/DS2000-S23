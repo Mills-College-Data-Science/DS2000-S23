{
 "cells": [
  {
   "cell_type": "markdown",
   "metadata": {
    "id": "h8Hp8eOGEwkE"
   },
   "source": [
    "\n",
    "# DS2000 & DS2001 Programming with Data & Practicum"
   ]
  },
  {
   "cell_type": "markdown",
   "metadata": {
    "id": "0w3sT_6AEwkJ"
   },
   "source": [
    "# Lab 2: Table Operations\n",
    "\n",
    "#### Today's lab\n",
    "\n",
    "Welcome to Lab 2!  In today's lab, you'll learn how to:\n",
    "\n",
    "1. import a module\n",
    "2. extract information from tables and manipulate tables \n",
    "\n",
    "Reading:\n",
    " * [Section 3.4: Introduction to Tables](https://www.inferentialthinking.com/chapters/03/4/Introduction_to_Tables)\n",
    "\n",
    "First, set up the tests and imports by running the cell below."
   ]
  },
  {
   "cell_type": "code",
   "execution_count": 10,
   "metadata": {},
   "outputs": [
    {
     "name": "stdout",
     "output_type": "stream",
     "text": [
      "Defaulting to user installation because normal site-packages is not writeable\n",
      "Requirement already satisfied: protobuf==4.21.12 in /home/su.wang/.local/lib/python3.9/site-packages (4.21.12)\n",
      "Defaulting to user installation because normal site-packages is not writeable\n",
      "Requirement already satisfied: otter-grader in /home/su.wang/.local/lib/python3.9/site-packages (4.2.1)\n",
      "Requirement already satisfied: jupytext in /home/su.wang/.local/lib/python3.9/site-packages (from otter-grader) (1.14.4)\n",
      "Requirement already satisfied: click in /home/su.wang/.local/lib/python3.9/site-packages (from otter-grader) (8.1.3)\n",
      "Requirement already satisfied: fica>=0.2.0 in /home/su.wang/.local/lib/python3.9/site-packages (from otter-grader) (0.2.2)\n",
      "Requirement already satisfied: requests in /shared/centos7/anaconda3/2022.05/envs/ds2000_v2_env/lib/python3.9/site-packages (from otter-grader) (2.28.1)\n",
      "Requirement already satisfied: nbformat in /shared/centos7/anaconda3/2022.05/envs/ds2000_v2_env/lib/python3.9/site-packages (from otter-grader) (5.7.0)\n",
      "Requirement already satisfied: ipython in /shared/centos7/anaconda3/2022.05/envs/ds2000_v2_env/lib/python3.9/site-packages (from otter-grader) (8.8.0)\n",
      "Requirement already satisfied: PyYAML in /home/su.wang/.local/lib/python3.9/site-packages (from otter-grader) (6.0)\n",
      "Requirement already satisfied: python-on-whales in /home/su.wang/.local/lib/python3.9/site-packages (from otter-grader) (0.56.0)\n",
      "Requirement already satisfied: dill in /home/su.wang/.local/lib/python3.9/site-packages (from otter-grader) (0.3.6)\n",
      "Requirement already satisfied: wrapt in /home/su.wang/.local/lib/python3.9/site-packages (from otter-grader) (1.14.1)\n",
      "Requirement already satisfied: google-api-python-client in /home/su.wang/.local/lib/python3.9/site-packages (from otter-grader) (2.73.0)\n",
      "Requirement already satisfied: google-auth-oauthlib in /home/su.wang/.local/lib/python3.9/site-packages (from otter-grader) (0.8.0)\n",
      "Requirement already satisfied: pandas in /shared/centos7/anaconda3/2022.05/envs/ds2000_v2_env/lib/python3.9/site-packages (from otter-grader) (1.5.2)\n",
      "Requirement already satisfied: six in /shared/centos7/anaconda3/2022.05/envs/ds2000_v2_env/lib/python3.9/site-packages (from otter-grader) (1.16.0)\n",
      "Requirement already satisfied: jinja2 in /shared/centos7/anaconda3/2022.05/envs/ds2000_v2_env/lib/python3.9/site-packages (from otter-grader) (3.1.2)\n",
      "Requirement already satisfied: sphinx in /home/su.wang/.local/lib/python3.9/site-packages (from fica>=0.2.0->otter-grader) (6.1.3)\n",
      "Requirement already satisfied: docutils in /home/su.wang/.local/lib/python3.9/site-packages (from fica>=0.2.0->otter-grader) (0.19)\n",
      "Requirement already satisfied: google-auth<3.0.0dev,>=1.19.0 in /home/su.wang/.local/lib/python3.9/site-packages (from google-api-python-client->otter-grader) (2.16.0)\n",
      "Requirement already satisfied: httplib2<1dev,>=0.15.0 in /home/su.wang/.local/lib/python3.9/site-packages (from google-api-python-client->otter-grader) (0.21.0)\n",
      "Requirement already satisfied: uritemplate<5,>=3.0.1 in /home/su.wang/.local/lib/python3.9/site-packages (from google-api-python-client->otter-grader) (4.1.1)\n",
      "Requirement already satisfied: google-auth-httplib2>=0.1.0 in /home/su.wang/.local/lib/python3.9/site-packages (from google-api-python-client->otter-grader) (0.1.0)\n",
      "Requirement already satisfied: google-api-core!=2.0.*,!=2.1.*,!=2.2.*,!=2.3.0,<3.0.0dev,>=1.31.5 in /home/su.wang/.local/lib/python3.9/site-packages (from google-api-python-client->otter-grader) (2.11.0)\n",
      "Requirement already satisfied: requests-oauthlib>=0.7.0 in /home/su.wang/.local/lib/python3.9/site-packages (from google-auth-oauthlib->otter-grader) (1.3.1)\n",
      "Requirement already satisfied: decorator in /shared/centos7/anaconda3/2022.05/envs/ds2000_v2_env/lib/python3.9/site-packages (from ipython->otter-grader) (5.1.1)\n",
      "Requirement already satisfied: pygments>=2.4.0 in /shared/centos7/anaconda3/2022.05/envs/ds2000_v2_env/lib/python3.9/site-packages (from ipython->otter-grader) (2.14.0)\n",
      "Requirement already satisfied: traitlets>=5 in /shared/centos7/anaconda3/2022.05/envs/ds2000_v2_env/lib/python3.9/site-packages (from ipython->otter-grader) (5.8.1)\n",
      "Requirement already satisfied: stack-data in /shared/centos7/anaconda3/2022.05/envs/ds2000_v2_env/lib/python3.9/site-packages (from ipython->otter-grader) (0.6.2)\n",
      "Requirement already satisfied: matplotlib-inline in /shared/centos7/anaconda3/2022.05/envs/ds2000_v2_env/lib/python3.9/site-packages (from ipython->otter-grader) (0.1.6)\n",
      "Requirement already satisfied: jedi>=0.16 in /shared/centos7/anaconda3/2022.05/envs/ds2000_v2_env/lib/python3.9/site-packages (from ipython->otter-grader) (0.18.2)\n",
      "Requirement already satisfied: backcall in /shared/centos7/anaconda3/2022.05/envs/ds2000_v2_env/lib/python3.9/site-packages (from ipython->otter-grader) (0.2.0)\n",
      "Requirement already satisfied: prompt-toolkit<3.1.0,>=3.0.11 in /shared/centos7/anaconda3/2022.05/envs/ds2000_v2_env/lib/python3.9/site-packages (from ipython->otter-grader) (3.0.36)\n",
      "Requirement already satisfied: pickleshare in /shared/centos7/anaconda3/2022.05/envs/ds2000_v2_env/lib/python3.9/site-packages (from ipython->otter-grader) (0.7.5)\n",
      "Requirement already satisfied: pexpect>4.3 in /shared/centos7/anaconda3/2022.05/envs/ds2000_v2_env/lib/python3.9/site-packages (from ipython->otter-grader) (4.8.0)\n",
      "Requirement already satisfied: MarkupSafe>=2.0 in /shared/centos7/anaconda3/2022.05/envs/ds2000_v2_env/lib/python3.9/site-packages (from jinja2->otter-grader) (2.1.1)\n",
      "Requirement already satisfied: toml in /home/su.wang/.local/lib/python3.9/site-packages (from jupytext->otter-grader) (0.10.2)\n",
      "Requirement already satisfied: markdown-it-py<3.0.0,>=1.0.0 in /home/su.wang/.local/lib/python3.9/site-packages (from jupytext->otter-grader) (2.1.0)\n",
      "Requirement already satisfied: mdit-py-plugins in /home/su.wang/.local/lib/python3.9/site-packages (from jupytext->otter-grader) (0.3.3)\n",
      "Requirement already satisfied: jsonschema>=2.6 in /shared/centos7/anaconda3/2022.05/envs/ds2000_v2_env/lib/python3.9/site-packages (from nbformat->otter-grader) (4.16.0)\n",
      "Requirement already satisfied: jupyter-core in /shared/centos7/anaconda3/2022.05/envs/ds2000_v2_env/lib/python3.9/site-packages (from nbformat->otter-grader) (5.1.1)\n",
      "Requirement already satisfied: fastjsonschema in /shared/centos7/anaconda3/2022.05/envs/ds2000_v2_env/lib/python3.9/site-packages (from nbformat->otter-grader) (2.16.2)\n",
      "Requirement already satisfied: numpy>=1.20.3 in /shared/centos7/anaconda3/2022.05/envs/ds2000_v2_env/lib/python3.9/site-packages (from pandas->otter-grader) (1.24.1)\n",
      "Requirement already satisfied: pytz>=2020.1 in /shared/centos7/anaconda3/2022.05/envs/ds2000_v2_env/lib/python3.9/site-packages (from pandas->otter-grader) (2022.7)\n",
      "Requirement already satisfied: python-dateutil>=2.8.1 in /shared/centos7/anaconda3/2022.05/envs/ds2000_v2_env/lib/python3.9/site-packages (from pandas->otter-grader) (2.8.2)\n",
      "Requirement already satisfied: typing-extensions in /shared/centos7/anaconda3/2022.05/envs/ds2000_v2_env/lib/python3.9/site-packages (from python-on-whales->otter-grader) (4.4.0)\n",
      "Requirement already satisfied: tqdm in /home/su.wang/.local/lib/python3.9/site-packages (from python-on-whales->otter-grader) (4.64.1)\n",
      "Requirement already satisfied: pydantic>=1.5 in /home/su.wang/.local/lib/python3.9/site-packages (from python-on-whales->otter-grader) (1.10.4)\n",
      "Requirement already satisfied: typer>=0.4.1 in /home/su.wang/.local/lib/python3.9/site-packages (from python-on-whales->otter-grader) (0.7.0)\n",
      "Requirement already satisfied: charset-normalizer<3,>=2 in /shared/centos7/anaconda3/2022.05/envs/ds2000_v2_env/lib/python3.9/site-packages (from requests->otter-grader) (2.1.1)\n",
      "Requirement already satisfied: idna<4,>=2.5 in /shared/centos7/anaconda3/2022.05/envs/ds2000_v2_env/lib/python3.9/site-packages (from requests->otter-grader) (3.4)\n",
      "Requirement already satisfied: certifi>=2017.4.17 in /shared/centos7/anaconda3/2022.05/envs/ds2000_v2_env/lib/python3.9/site-packages (from requests->otter-grader) (2022.12.7)\n",
      "Requirement already satisfied: urllib3<1.27,>=1.21.1 in /shared/centos7/anaconda3/2022.05/envs/ds2000_v2_env/lib/python3.9/site-packages (from requests->otter-grader) (1.26.13)\n",
      "Requirement already satisfied: googleapis-common-protos<2.0dev,>=1.56.2 in /home/su.wang/.local/lib/python3.9/site-packages (from google-api-core!=2.0.*,!=2.1.*,!=2.2.*,!=2.3.0,<3.0.0dev,>=1.31.5->google-api-python-client->otter-grader) (1.58.0)\n",
      "Requirement already satisfied: protobuf!=3.20.0,!=3.20.1,!=4.21.0,!=4.21.1,!=4.21.2,!=4.21.3,!=4.21.4,!=4.21.5,<5.0.0dev,>=3.19.5 in /home/su.wang/.local/lib/python3.9/site-packages (from google-api-core!=2.0.*,!=2.1.*,!=2.2.*,!=2.3.0,<3.0.0dev,>=1.31.5->google-api-python-client->otter-grader) (4.21.12)\n",
      "Requirement already satisfied: pyasn1-modules>=0.2.1 in /home/su.wang/.local/lib/python3.9/site-packages (from google-auth<3.0.0dev,>=1.19.0->google-api-python-client->otter-grader) (0.2.8)\n",
      "Requirement already satisfied: rsa<5,>=3.1.4 in /home/su.wang/.local/lib/python3.9/site-packages (from google-auth<3.0.0dev,>=1.19.0->google-api-python-client->otter-grader) (4.9)\n",
      "Requirement already satisfied: cachetools<6.0,>=2.0.0 in /home/su.wang/.local/lib/python3.9/site-packages (from google-auth<3.0.0dev,>=1.19.0->google-api-python-client->otter-grader) (5.2.1)\n",
      "Requirement already satisfied: pyparsing!=3.0.0,!=3.0.1,!=3.0.2,!=3.0.3,<4,>=2.4.2 in /shared/centos7/anaconda3/2022.05/envs/ds2000_v2_env/lib/python3.9/site-packages (from httplib2<1dev,>=0.15.0->google-api-python-client->otter-grader) (3.0.9)\n",
      "Requirement already satisfied: parso<0.9.0,>=0.8.0 in /shared/centos7/anaconda3/2022.05/envs/ds2000_v2_env/lib/python3.9/site-packages (from jedi>=0.16->ipython->otter-grader) (0.8.3)\n",
      "Requirement already satisfied: pyrsistent!=0.17.0,!=0.17.1,!=0.17.2,>=0.14.0 in /shared/centos7/anaconda3/2022.05/envs/ds2000_v2_env/lib/python3.9/site-packages (from jsonschema>=2.6->nbformat->otter-grader) (0.18.0)\n",
      "Requirement already satisfied: attrs>=17.4.0 in /shared/centos7/anaconda3/2022.05/envs/ds2000_v2_env/lib/python3.9/site-packages (from jsonschema>=2.6->nbformat->otter-grader) (22.1.0)\n",
      "Requirement already satisfied: mdurl~=0.1 in /home/su.wang/.local/lib/python3.9/site-packages (from markdown-it-py<3.0.0,>=1.0.0->jupytext->otter-grader) (0.1.2)\n",
      "Requirement already satisfied: ptyprocess>=0.5 in /shared/centos7/anaconda3/2022.05/envs/ds2000_v2_env/lib/python3.9/site-packages (from pexpect>4.3->ipython->otter-grader) (0.7.0)\n",
      "Requirement already satisfied: wcwidth in /shared/centos7/anaconda3/2022.05/envs/ds2000_v2_env/lib/python3.9/site-packages (from prompt-toolkit<3.1.0,>=3.0.11->ipython->otter-grader) (0.2.5)\n",
      "Requirement already satisfied: oauthlib>=3.0.0 in /home/su.wang/.local/lib/python3.9/site-packages (from requests-oauthlib>=0.7.0->google-auth-oauthlib->otter-grader) (3.2.2)\n",
      "Requirement already satisfied: platformdirs>=2.5 in /shared/centos7/anaconda3/2022.05/envs/ds2000_v2_env/lib/python3.9/site-packages (from jupyter-core->nbformat->otter-grader) (2.5.2)\n",
      "Requirement already satisfied: importlib-metadata>=4.8 in /shared/centos7/anaconda3/2022.05/envs/ds2000_v2_env/lib/python3.9/site-packages (from sphinx->fica>=0.2.0->otter-grader) (4.11.3)\n",
      "Requirement already satisfied: sphinxcontrib-serializinghtml>=1.1.5 in /home/su.wang/.local/lib/python3.9/site-packages (from sphinx->fica>=0.2.0->otter-grader) (1.1.5)\n",
      "Requirement already satisfied: snowballstemmer>=2.0 in /home/su.wang/.local/lib/python3.9/site-packages (from sphinx->fica>=0.2.0->otter-grader) (2.2.0)\n",
      "Requirement already satisfied: sphinxcontrib-devhelp in /home/su.wang/.local/lib/python3.9/site-packages (from sphinx->fica>=0.2.0->otter-grader) (1.0.2)\n",
      "Requirement already satisfied: packaging>=21.0 in /shared/centos7/anaconda3/2022.05/envs/ds2000_v2_env/lib/python3.9/site-packages (from sphinx->fica>=0.2.0->otter-grader) (23.0)\n",
      "Requirement already satisfied: sphinxcontrib-jsmath in /home/su.wang/.local/lib/python3.9/site-packages (from sphinx->fica>=0.2.0->otter-grader) (1.0.1)\n",
      "Requirement already satisfied: babel>=2.9 in /shared/centos7/anaconda3/2022.05/envs/ds2000_v2_env/lib/python3.9/site-packages (from sphinx->fica>=0.2.0->otter-grader) (2.11.0)\n",
      "Requirement already satisfied: sphinxcontrib-htmlhelp>=2.0.0 in /home/su.wang/.local/lib/python3.9/site-packages (from sphinx->fica>=0.2.0->otter-grader) (2.0.0)\n",
      "Requirement already satisfied: sphinxcontrib-applehelp in /home/su.wang/.local/lib/python3.9/site-packages (from sphinx->fica>=0.2.0->otter-grader) (1.0.3)\n",
      "Requirement already satisfied: imagesize>=1.3 in /home/su.wang/.local/lib/python3.9/site-packages (from sphinx->fica>=0.2.0->otter-grader) (1.4.1)\n",
      "Requirement already satisfied: alabaster<0.8,>=0.7 in /home/su.wang/.local/lib/python3.9/site-packages (from sphinx->fica>=0.2.0->otter-grader) (0.7.13)\n",
      "Requirement already satisfied: sphinxcontrib-qthelp in /home/su.wang/.local/lib/python3.9/site-packages (from sphinx->fica>=0.2.0->otter-grader) (1.0.3)\n",
      "Requirement already satisfied: pure-eval in /shared/centos7/anaconda3/2022.05/envs/ds2000_v2_env/lib/python3.9/site-packages (from stack-data->ipython->otter-grader) (0.2.2)\n",
      "Requirement already satisfied: asttokens>=2.1.0 in /shared/centos7/anaconda3/2022.05/envs/ds2000_v2_env/lib/python3.9/site-packages (from stack-data->ipython->otter-grader) (2.2.1)\n",
      "Requirement already satisfied: executing>=1.2.0 in /shared/centos7/anaconda3/2022.05/envs/ds2000_v2_env/lib/python3.9/site-packages (from stack-data->ipython->otter-grader) (1.2.0)\n",
      "Requirement already satisfied: zipp>=0.5 in /shared/centos7/anaconda3/2022.05/envs/ds2000_v2_env/lib/python3.9/site-packages (from importlib-metadata>=4.8->sphinx->fica>=0.2.0->otter-grader) (3.11.0)\n",
      "Requirement already satisfied: pyasn1<0.5.0,>=0.4.6 in /home/su.wang/.local/lib/python3.9/site-packages (from pyasn1-modules>=0.2.1->google-auth<3.0.0dev,>=1.19.0->google-api-python-client->otter-grader) (0.4.8)\n"
     ]
    }
   ],
   "source": [
    "# to install otter-grader, run this cell \n",
    "! pip install protobuf==4.21.12\n",
    "! pip install otter-grader"
   ]
  },
  {
   "cell_type": "code",
   "execution_count": 2,
   "metadata": {
    "deletable": false,
    "editable": false,
    "id": "SlqYozLHEwkJ"
   },
   "outputs": [],
   "source": [
    "# Just run this cell\n",
    "import numpy as np\n",
    "from datascience import *\n",
    "\n",
    "# These lines load the tests.\n",
    "import otter\n",
    "grader = otter.Notebook()"
   ]
  },
  {
   "cell_type": "markdown",
   "metadata": {
    "id": "hTqInJGwEwkK"
   },
   "source": [
    "# 1. Review: The Building Blocks of Python Code\n",
    "\n",
    "The two building blocks of Python code are *expressions* and *statements*.  An **expression** is a piece of code that\n",
    "\n",
    "* is self-contained, meaning it would make sense to write it on a line by itself, and\n",
    "* usually evaluates to a value.\n",
    "\n",
    "\n",
    "Here are two expressions that both evaluate to 3:\n",
    "\n",
    "    3\n",
    "    5 - 2\n",
    "    \n",
    "One important type of expression is the **call expression**. A call expression begins with the name of a function and is followed by the argument(s) of that function in parentheses. The function returns some value, based on its arguments. Some important mathematical functions are listed below.\n",
    "\n",
    "| Function | Description                                                   |\n",
    "|----------|---------------------------------------------------------------|\n",
    "| `abs`      | Returns the absolute value of its argument                    |\n",
    "| `max`      | Returns the maximum of all its arguments                      |\n",
    "| `min`      | Returns the minimum of all its arguments                      |\n",
    "| `pow`      | Raises its first argument to the power of its second argument |\n",
    "| `round`    | Rounds its argument to the nearest integer                     |\n",
    "\n",
    "Here are two call expressions that both evaluate to 3:\n",
    "\n",
    "    abs(2 - 5)\n",
    "    max(round(2.8), min(pow(2, 10), -1 * pow(2, 10)))\n",
    "\n",
    "The expression `2 - 5` and the two call expressions given above are examples of **compound expressions**, meaning that they are actually combinations of several smaller expressions.  `2 - 5` combines the expressions `2` and `5` by subtraction.  In this case, `2` and `5` are called **subexpressions** because they're expressions that are part of a larger expression.\n",
    "\n",
    "A **statement** is a whole line of code.  Some statements are just expressions.  The expressions listed above are examples of statements.\n",
    "\n",
    "Other statements *make something happen* rather than *having a value*. For example, an **assignment statement** assigns a value to a name. A good way to think about this is that we're **evaluating the right-hand side** of the equals sign and **assigning it to the left-hand side**. Here are some assignment statements:\n",
    "    \n",
    "    height = 1.3\n",
    "    the_number_five = abs(-5)\n",
    "    absolute_height_difference = abs(height - 1.688)\n",
    "\n",
    "An important idea in programming is that large, interesting things can be built by combining many simple, smaller things.  The key to understanding a complicated piece of code is breaking it down into its simple components.\n",
    "\n",
    "For example, a lot is going on in the last statement above, but it's really just a combination of a few things.  This picture describes what's going on.\n",
    "\n",
    "<img src=\"statement.png\">"
   ]
  },
  {
   "cell_type": "markdown",
   "metadata": {
    "deletable": false,
    "editable": false,
    "id": "8O-NH4GQEwkK"
   },
   "source": [
    "**Question 1.1.** In the next cell, assign the name `new_year` to the **larger** number among the following two numbers:\n",
    "\n",
    "1. the **absolute value** of $2^{5}-2^{11}-2^1 + 1$, and \n",
    "2. $5 \\times 13 \\times 31 + 8$.\n",
    "\n",
    "Try to use just one statement consisting of expressions (one line of code). Be sure to check your work by executing the test cell afterward.\n"
   ]
  },
  {
   "cell_type": "code",
   "execution_count": 1,
   "metadata": {
    "id": "hq-I4s58EwkL",
    "scrolled": true
   },
   "outputs": [
    {
     "data": {
      "text/plain": [
       "2023"
      ]
     },
     "execution_count": 1,
     "metadata": {},
     "output_type": "execute_result"
    }
   ],
   "source": [
    "new_year = max(abs(2**5 - 2**11 - 2 +1), (5*13*31 + 8)) \n",
    "new_year"
   ]
  },
  {
   "cell_type": "code",
   "execution_count": 3,
   "metadata": {
    "deletable": false,
    "id": "8bHWo9RfEwkL"
   },
   "outputs": [
    {
     "data": {
      "text/html": [
       "<p><strong><pre style='display: inline;'>q11</pre></strong> passed! 🍀</p>"
      ],
      "text/plain": [
       "q11 results: All test cases passed!"
      ]
     },
     "execution_count": 3,
     "metadata": {},
     "output_type": "execute_result"
    }
   ],
   "source": [
    "# Testing Question 1.1 \n",
    "grader.check(\"q11\")"
   ]
  },
  {
   "cell_type": "markdown",
   "metadata": {
    "id": "hBcAeCliEwkL"
   },
   "source": [
    "We've asked you to use one line of code in the question above because it only involves mathematical operations. However, more complicated programming questions will more require more steps. It isn’t always a good idea to jam these steps into a single line because it can make the code harder to read and harder to debug.\n",
    "\n",
    "Good programming practice involves splitting up your code into smaller steps and using appropriate names. You'll have plenty of practice in the rest of this course!"
   ]
  },
  {
   "cell_type": "markdown",
   "metadata": {
    "id": "676fNr2WEwkL"
   },
   "source": [
    "# 2. Importing Code\n",
    "\n",
    "![imports](https://external-preview.redd.it/ZVPjiFo_Ubl4JeiU63SaTjdIoq5zveSnNZimKpgn2I8.png?auto=webp&s=bf32c94b630befa121075c1ae99b2599af6dedc5) \n",
    "\n",
    "[source](https://www.reddit.com/r/ProgrammerHumor/comments/cgtk7s/theres_no_need_to_reinvent_the_wheel_oc/)\n",
    "\n",
    "Most programming involves work that is very similar to work that has been done before.  Since writing code is time-consuming, it's good to rely on others' published code when you can.  Rather than copy-pasting, Python allows us to **import modules**. A module is a file with Python code that has defined variables and functions. By importing a module, we are able to use its code in our own notebook.\n",
    "\n",
    "Python includes many useful modules that are just an `import` away.  We'll look at the `math` module as a first example. The `math` module is extremely useful in computing mathematical expressions in Python. \n",
    "\n",
    "Suppose we want to very accurately compute the area of a circle with a radius of 5 meters.  For that, we need the constant $\\pi$, which is roughly 3.14.  Conveniently, the `math` module has `pi` defined for us:"
   ]
  },
  {
   "cell_type": "code",
   "execution_count": 5,
   "metadata": {
    "deletable": false,
    "editable": false,
    "id": "b7MXcffiEwkM"
   },
   "outputs": [
    {
     "data": {
      "text/plain": [
       "78.53981633974483"
      ]
     },
     "execution_count": 5,
     "metadata": {},
     "output_type": "execute_result"
    }
   ],
   "source": [
    "import math     # here we are importing the math module\n",
    "radius = 5\n",
    "area_of_circle = radius**2 * math.pi\n",
    "area_of_circle"
   ]
  },
  {
   "cell_type": "markdown",
   "metadata": {
    "id": "0ia3bExXEwkM"
   },
   "source": [
    "In the code above, the line `import math` imports the math module.  We are now able to access any variables or functions defined within `math` by typing the name of the module followed by a dot, then followed by the name of the variable or function we want.\n",
    "\n",
    "    <module name>.<name>\n",
    "    \n",
    "The list of variables and functions in the math module can be found [here](https://docs.python.org/3/library/math.html)"
   ]
  },
  {
   "cell_type": "markdown",
   "metadata": {
    "deletable": false,
    "editable": false,
    "id": "QdnMmJvFEwkM"
   },
   "source": [
    "**Question 2.1.** The module `math` also provides the name `e` (math.e), which is a mathematical constant roughly equal to 2.718. Compute $e^{\\pi}-\\pi$, giving it the name `near_twenty`.\n",
    "\n",
    "*Remember: You can access `pi` from the `math` module as well!*"
   ]
  },
  {
   "cell_type": "code",
   "execution_count": 6,
   "metadata": {
    "id": "pl_VuRNDEwkM"
   },
   "outputs": [
    {
     "data": {
      "text/plain": [
       "19.99909997918947"
      ]
     },
     "execution_count": 6,
     "metadata": {},
     "output_type": "execute_result"
    }
   ],
   "source": [
    "near_twenty = math.e ** math.pi - math.pi\n",
    "near_twenty"
   ]
  },
  {
   "cell_type": "code",
   "execution_count": 7,
   "metadata": {
    "deletable": false,
    "id": "SIlJPY8-EwkM"
   },
   "outputs": [
    {
     "data": {
      "text/html": [
       "<p><strong><pre style='display: inline;'>q21</pre></strong> passed! 💯</p>"
      ],
      "text/plain": [
       "q21 results: All test cases passed!"
      ]
     },
     "execution_count": 7,
     "metadata": {},
     "output_type": "execute_result"
    }
   ],
   "source": [
    "# Testing Question 2.1 \n",
    "grader.check(\"q21\")  "
   ]
  },
  {
   "cell_type": "markdown",
   "metadata": {
    "id": "NokZ2eI-EwkN"
   },
   "source": [
    "![XKCD](http://imgs.xkcd.com/comics/e_to_the_pi_minus_pi.png)\n",
    "\n",
    "[Source](http://imgs.xkcd.com/comics/e_to_the_pi_minus_pi.png)\n",
    "[Explaination](https://www.explainxkcd.com/wiki/index.php/217:_e_to_the_pi_Minus_pi)"
   ]
  },
  {
   "cell_type": "markdown",
   "metadata": {
    "deletable": false,
    "id": "Yn7ZBjPLEwkN"
   },
   "source": [
    "## 2.1. Accessing Functions\n",
    "\n",
    "In the question above, you accessed variables within the `math` module. \n",
    "\n",
    "**Modules** also define **functions**.  For example, `math` provides the name `ceil` for the ceiling function — `math.ceil(x)` returns the smallest integer greater than or equal to *x*.  Having imported `math` already, we can write `math.ceil(4.3)` to compute the ceiling of 4.3 which is 5."
   ]
  },
  {
   "cell_type": "markdown",
   "metadata": {
    "deletable": false,
    "editable": false,
    "id": "Sv_3qbphEwkN"
   },
   "source": [
    "**Question 2.1.1.** You are to build a fence that is 67 feet long.  You are to place posts for the fence: the posts need to be 6 feet or less apart, with one at the beginning and one at the end of the fence.  What is the minimum number of posts you need?  Give the result the name `number_of_posts`."
   ]
  },
  {
   "cell_type": "code",
   "execution_count": 10,
   "metadata": {
    "id": "VoOZGpJNEwkN"
   },
   "outputs": [
    {
     "data": {
      "text/plain": [
       "13"
      ]
     },
     "execution_count": 10,
     "metadata": {},
     "output_type": "execute_result"
    }
   ],
   "source": [
    "number_of_posts = math.ceil(67/6)+1\n",
    "number_of_posts"
   ]
  },
  {
   "cell_type": "code",
   "execution_count": 11,
   "metadata": {
    "deletable": false,
    "id": "tiMnAp3DEwkN"
   },
   "outputs": [
    {
     "data": {
      "text/html": [
       "<p><strong><pre style='display: inline;'>q211</pre></strong> passed! 🌟</p>"
      ],
      "text/plain": [
       "q211 results: All test cases passed!"
      ]
     },
     "execution_count": 11,
     "metadata": {},
     "output_type": "execute_result"
    }
   ],
   "source": [
    "# Testing Question 2.1.1\n",
    "grader.check(\"q211\") "
   ]
  },
  {
   "cell_type": "markdown",
   "metadata": {
    "id": "TiLgKz1EEwkO"
   },
   "source": [
    "For your reference, below are some more examples of functions from the `math` module.\n",
    "\n",
    "Notice how different functions take in different numbers of arguments. Often, the [documentation](https://docs.python.org/3/library/math.html) of the module will provide information on how many arguments are required for each function.\n",
    "\n",
    "*Hint: If you press `Shift+Tab` while next to the function call, the documentation for that function will appear.  Try it!*"
   ]
  },
  {
   "cell_type": "code",
   "execution_count": null,
   "metadata": {
    "id": "af4MfQC_EwkO"
   },
   "outputs": [],
   "source": [
    "# Calculating logarithm (the logarithm of 8 in base 2).\n",
    "# The result is 3 because 2 to the power of 3 is 8.\n",
    "math.log(8, 2)"
   ]
  },
  {
   "cell_type": "code",
   "execution_count": null,
   "metadata": {
    "id": "OHpYqK_sEwkO"
   },
   "outputs": [],
   "source": [
    "# Calculating square root\n",
    "math.sqrt(5)"
   ]
  },
  {
   "cell_type": "markdown",
   "metadata": {
    "id": "gqVewWcHEwkO"
   },
   "source": [
    "There are various ways to import and access code from outside sources. The method we used above — `import <module_name>` — imports the entire module and requires that we use `<module_name>.<name>` to access its code. \n",
    "\n",
    "We can also import a specific constant or function instead of the entire module. Notice that you don't have to use the module name beforehand to reference that particular value. However, you do have to be careful about reassigning the names of the constants or functions to other values!"
   ]
  },
  {
   "cell_type": "code",
   "execution_count": null,
   "metadata": {
    "deletable": false,
    "editable": false,
    "id": "RDU5atyIEwkO"
   },
   "outputs": [],
   "source": [
    "# Importing just cos and pi from math\n",
    "# We don't have to use `math.` in front of cos or pi\n",
    "from math import cos, pi\n",
    "print(cos(pi))\n",
    "\n",
    "# We do have to use it in front of other functions from math, though\n",
    "math.log(pi)"
   ]
  },
  {
   "cell_type": "markdown",
   "metadata": {
    "id": "Ra6O6ggQEwkO"
   },
   "source": [
    "Or we can import every function and value from the entire module."
   ]
  },
  {
   "cell_type": "code",
   "execution_count": null,
   "metadata": {
    "id": "vTjSC64REwkP"
   },
   "outputs": [],
   "source": [
    "# Lastly, we can import everything from math using the *\n",
    "# Once again, we don't have to use 'math.' beforehand after importing '*'\n",
    "from math import *\n",
    "log(pi)"
   ]
  },
  {
   "cell_type": "markdown",
   "metadata": {
    "id": "oLfeVjZHEwkP"
   },
   "source": [
    "Don't worry too much about which type of import to use. It's often a coding style choice left up to each programmer. In this course, you'll always import the necessary modules when you run the setup cell (like the first code cell in this lab).\n",
    "\n",
    "Let's move on to practicing some of the table operations you've learned in lecture!"
   ]
  },
  {
   "cell_type": "markdown",
   "metadata": {
    "id": "FKo7BdXjEwkP"
   },
   "source": [
    "# 3. Table Operations\n",
    "\n",
    "The table `farmers_markets.csv` contains data on farmers' markets in the United States  (data collected [by the USDA](https://apps.ams.usda.gov/FarmersMarketsExport/ExcelExport.aspx)).  Each row represents one such market.\n",
    "\n",
    "Run the next cell to load the `farmers_markets` table."
   ]
  },
  {
   "cell_type": "code",
   "execution_count": null,
   "metadata": {
    "id": "j4EypUfSEwkP"
   },
   "outputs": [],
   "source": [
    "# Just run this cell\n",
    "\n",
    "farmers_markets = Table.read_table('farmers_markets.csv')"
   ]
  },
  {
   "cell_type": "markdown",
   "metadata": {
    "deletable": false,
    "editable": false,
    "id": "qwocVtFZEwkQ"
   },
   "source": [
    "Let's examine our table to see what data it contains.\n",
    "\n",
    "**Question 3.1.** Use the method `show` to display the first 5 rows of `farmers_markets`. \n",
    "\n",
    "*Note:* The terms \"method\" and \"function\" are technically not the same thing, but for the purposes of this course, we will use them interchangeably.\n",
    "\n",
    "**Hint:** `tbl.show(3)` will show the first 3 rows of `tbl`. Additionally, make sure not to call `.show()` without an argument, as this will crash your kernel!\n"
   ]
  },
  {
   "cell_type": "code",
   "execution_count": null,
   "metadata": {
    "id": "rXXa1zPSEwkQ"
   },
   "outputs": [],
   "source": [
    "..."
   ]
  },
  {
   "cell_type": "markdown",
   "metadata": {
    "deletable": false,
    "id": "cTlaAE9AEwkQ"
   },
   "source": [
    "Notice that some of the values in this table are missing, as denoted by \"nan.\" This means either that the value is not available (e.g. if we don’t know the market’s street address) or not applicable (e.g. if the market doesn’t have a street address). You'll also notice that the table has a large number of columns in it!\n",
    "\n",
    "### `num_columns`\n",
    "\n",
    "The table property `num_columns` returns the number of columns in a table. (A \"property\" is just a method that doesn't need to be called by adding parentheses.)\n",
    "\n",
    "Example call: `<tbl>.num_columns`"
   ]
  },
  {
   "cell_type": "markdown",
   "metadata": {
    "deletable": false,
    "editable": false,
    "id": "H-WVpY8oEwkQ"
   },
   "source": [
    "**Question 3.2.** Use `num_columns` to find the number of columns in our farmers' markets dataset.\n",
    "\n",
    "Assign the number of columns to `num_farmers_markets_columns`."
   ]
  },
  {
   "cell_type": "code",
   "execution_count": null,
   "metadata": {
    "id": "-0r7EkVXEwkQ"
   },
   "outputs": [],
   "source": [
    "num_farmers_markets_columns = ...\n",
    "print(\"The table has\", num_farmers_markets_columns, \"columns in it!\")"
   ]
  },
  {
   "cell_type": "code",
   "execution_count": null,
   "metadata": {
    "deletable": false,
    "id": "k0OEkhPrEwkQ"
   },
   "outputs": [],
   "source": [
    "# Testing Question 3.2 \n",
    "grader.check(\"q32\")"
   ]
  },
  {
   "cell_type": "markdown",
   "metadata": {
    "id": "VwUnjFE0EwkR"
   },
   "source": [
    "### `num_rows`\n",
    "\n",
    "Similarly, the property `num_rows` tells you how many rows are in a table."
   ]
  },
  {
   "cell_type": "code",
   "execution_count": null,
   "metadata": {
    "id": "PEESt7ZUEwkR"
   },
   "outputs": [],
   "source": [
    "# Just run this cell\n",
    "\n",
    "num_farmers_markets_rows = farmers_markets.num_rows\n",
    "print(\"The table has\", num_farmers_markets_rows, \"rows in it!\")"
   ]
  },
  {
   "cell_type": "markdown",
   "metadata": {
    "deletable": false,
    "id": "6yylEkOdEwkR"
   },
   "source": [
    "### `select`\n",
    "\n",
    "Most of the columns are about particular products — whether the market sells tofu, pet food, etc.  If we're not interested in that information, it just makes the table very large and difficult to read.  This comes up more than you might think, because people who collect and publish data may not know ahead of time what people will want to do with it.\n",
    "\n",
    "In such situations, we can use the table method `select` to choose only the columns that we want in a particular table. It takes any number of arguments. Each should be the name of a column in the table. It returns a new table with only those columns in it. The columns are in the order *in which they were listed as arguments*.\n",
    "\n",
    "For example, the value of `farmers_markets.select(\"MarketName\", \"State\")` is a table with only the name and the state of each farmers' market in `farmers_markets`."
   ]
  },
  {
   "cell_type": "markdown",
   "metadata": {
    "deletable": false,
    "editable": false,
    "id": "w_3pxj9fEwkR"
   },
   "source": [
    "**Question 3.3.** Use `select` to create a table with only the name, city, state, latitude (`y`), and longitude (`x`) of each market.  Call that new table `farmers_markets_locations`.\n",
    "\n",
    "*Hint:* Make sure to be exact when using column names with `select`; double-check capitalization!\n"
   ]
  },
  {
   "cell_type": "code",
   "execution_count": null,
   "metadata": {
    "id": "saSb2LDREwkR"
   },
   "outputs": [],
   "source": [
    "farmers_markets_locations = ...\n",
    "farmers_markets_locations"
   ]
  },
  {
   "cell_type": "code",
   "execution_count": null,
   "metadata": {
    "deletable": false,
    "id": "l0hFOwcpEwkR"
   },
   "outputs": [],
   "source": [
    "# Testing Question 3.3 \n",
    "grader.check(\"q33\")"
   ]
  },
  {
   "cell_type": "markdown",
   "metadata": {
    "deletable": false,
    "id": "Q3vaz8kfEwkS"
   },
   "source": [
    "### `drop`\n",
    "\n",
    "`drop` serves the same purpose as `select`, but it takes away the columns that you provide rather than the ones that you don't provide. Like `select`, `drop` returns a new table."
   ]
  },
  {
   "cell_type": "markdown",
   "metadata": {
    "deletable": false,
    "editable": false,
    "id": "MV2rxMdXEwkS"
   },
   "source": [
    "**Question 3.4.** Suppose you just didn't want the `FMID` and `updateTime` columns in `farmers_markets`.  Create a table that's a copy of `farmers_markets` but doesn't include those columns.  Call that table `farmers_markets_without_fmid`."
   ]
  },
  {
   "cell_type": "code",
   "execution_count": null,
   "metadata": {
    "id": "67lIma_VEwkS"
   },
   "outputs": [],
   "source": [
    "farmers_markets_without_fmid = ...\n",
    "farmers_markets_without_fmid"
   ]
  },
  {
   "cell_type": "code",
   "execution_count": null,
   "metadata": {
    "deletable": false,
    "id": "3v8Cv5obEwkS"
   },
   "outputs": [],
   "source": [
    "# Testing Question 3.4 \n",
    "grader.check(\"q34\")"
   ]
  },
  {
   "cell_type": "markdown",
   "metadata": {
    "id": "oej3S59yEwkS"
   },
   "source": [
    "### `sort`\n",
    "\n",
    "Now, suppose we want to answer some questions about farmers' markets in the US. For example, which market(s) have the largest longitude (given by the `x` column)? \n",
    "\n",
    "To answer this, we'll `sort` `farmers_markets_locations` by longitude."
   ]
  },
  {
   "cell_type": "code",
   "execution_count": null,
   "metadata": {
    "id": "60UVHoSgEwkS"
   },
   "outputs": [],
   "source": [
    "farmers_markets_locations.sort('x')"
   ]
  },
  {
   "cell_type": "markdown",
   "metadata": {
    "id": "IryNgZJoEwkS"
   },
   "source": [
    "Oops, that didn't answer our question because we sorted from smallest to largest longitude. To look at the largest longitudes, we'll have to sort in reverse order."
   ]
  },
  {
   "cell_type": "code",
   "execution_count": null,
   "metadata": {
    "id": "idrUYfGJEwkT"
   },
   "outputs": [],
   "source": [
    "farmers_markets_locations.sort('x', descending=True)"
   ]
  },
  {
   "cell_type": "markdown",
   "metadata": {
    "deletable": false,
    "id": "N-5a3K-7EwkT"
   },
   "source": [
    "(The `descending=True` bit is called an *optional argument*. It has a default value of `False`, so when you explicitly tell the function `descending=True`, then the function will sort in descending order.)\n",
    "\n",
    "Some details about sort:\n",
    "\n",
    "1. The first argument to `sort` is the name of a column to sort by.\n",
    "2. If the column has text in it, `sort` will sort alphabetically; if the column has numbers, it will sort numerically.\n",
    "3. The value of `farmers_markets_locations.sort(\"x\")` is a *copy* of `farmers_markets_locations`; the `farmers_markets_locations` table doesn't get modified. For example, if we called `farmers_markets_locations.sort(\"x\")`, then running `farmers_markets_locations` by itself would still return the unsorted table.\n",
    "4. Rows always stick together when a table is sorted.  It wouldn't make sense to sort just one column and leave the other columns alone.  For example, in this case, if we sorted *just* the `x` column, the farmers' markets would all end up with the wrong longitudes."
   ]
  },
  {
   "cell_type": "markdown",
   "metadata": {
    "deletable": false,
    "editable": false,
    "id": "dcZ0yeJbEwkT"
   },
   "source": [
    "**Question 3.5.** Create a version of `farmers_markets_locations` that's sorted by **latitude (`y`)**, with the largest latitudes first.  Call it `farmers_markets_locations_by_latitude`."
   ]
  },
  {
   "cell_type": "code",
   "execution_count": null,
   "metadata": {
    "id": "Dp6NM4FKEwkT",
    "scrolled": true
   },
   "outputs": [],
   "source": [
    "farmers_markets_locations_by_latitude = ...\n",
    "farmers_markets_locations_by_latitude"
   ]
  },
  {
   "cell_type": "code",
   "execution_count": null,
   "metadata": {
    "deletable": false,
    "id": "3jY3vRmnEwkT"
   },
   "outputs": [],
   "source": [
    "# Testing Question 3.5 \n",
    "grader.check(\"q35\")"
   ]
  },
  {
   "cell_type": "markdown",
   "metadata": {
    "id": "5lSzuW-tEwkT"
   },
   "source": [
    "### `where`\n",
    "\n",
    "Now let's say we want a table of all farmers' markets in California. Sorting won't help us much here because California  is closer to the middle of the dataset.  Instead, we use the table method `where`."
   ]
  },
  {
   "cell_type": "code",
   "execution_count": null,
   "metadata": {},
   "outputs": [],
   "source": [
    "california_farmers_markets = farmers_markets_locations.where('State', are.equal_to('California'))\n",
    "california_farmers_markets"
   ]
  },
  {
   "cell_type": "markdown",
   "metadata": {
    "id": "vMXvtT-dEwkT"
   },
   "source": [
    "Ignore the syntax for the moment.  Instead, try to read that line like this:\n",
    "\n",
    "> Assign the name **`california_farmers_markets`** to a table whose rows are the rows in the **`farmers_markets_locations`** table **`where`** the **`'State'`**s **`are` `equal` `to` `California`**."
   ]
  },
  {
   "cell_type": "markdown",
   "metadata": {
    "id": "qyTIk612EwkU"
   },
   "source": [
    "Now let's dive into the details a bit more.  `where` takes 2 arguments:\n",
    "\n",
    "1. The name of a column.  `where` finds rows where that column's values meet some criterion.\n",
    "2. A predicate that describes the criterion that the column needs to meet.\n",
    "\n",
    "The predicate in the example above called the function `are.equal_to` with the value we wanted, 'California'.  We'll see other predicates soon.\n",
    "\n",
    "`where` returns a table that's a copy of the original table, but **with only the rows that meet the criterion of the given predicate**."
   ]
  },
  {
   "cell_type": "markdown",
   "metadata": {
    "deletable": false,
    "editable": false,
    "id": "Ad5NPeqdEwkU"
   },
   "source": [
    "**Question 3.6.** Use `california_farmers_markets` to create a table called `oakland_markets` containing farmers' markets in Oakland, California."
   ]
  },
  {
   "cell_type": "code",
   "execution_count": null,
   "metadata": {},
   "outputs": [],
   "source": [
    "oakland_markets = ...\n",
    "oakland_markets"
   ]
  },
  {
   "cell_type": "code",
   "execution_count": null,
   "metadata": {
    "deletable": false,
    "id": "_I0rByQKEwkU"
   },
   "outputs": [],
   "source": [
    "# Testing Question 3.6 \n",
    "grader.check(\"q36\")"
   ]
  },
  {
   "cell_type": "markdown",
   "metadata": {
    "id": "zTCWaKZXEwkU"
   },
   "source": [
    "So far we've only been using `where` with the predicate that requires finding the values in a column to be *exactly* equal to a certain value. However, there are many other predicates. Here are a few:\n",
    "\n",
    "|Predicate|Example|Result|\n",
    "|-|-|-|\n",
    "|`are.equal_to`|`are.equal_to(50)`|Find rows with values equal to 50|\n",
    "|`are.not_equal_to`|`are.not_equal_to(50)`|Find rows with values not equal to 50|\n",
    "|`are.above`|`are.above(50)`|Find rows with values above (and not equal to) 50|\n",
    "|`are.above_or_equal_to`|`are.above_or_equal_to(50)`|Find rows with values above 50 or equal to 50|\n",
    "|`are.below`|`are.below(50)`|Find rows with values below 50|\n",
    "|`are.between`|`are.between(2, 10)`|Find rows with values above or equal to 2 and below 10|"
   ]
  },
  {
   "cell_type": "markdown",
   "metadata": {
    "id": "foGM7R8rEwkU"
   },
   "source": [
    "## 4. Analyzing a Dataset\n",
    "\n",
    "Now that you're familiar with table operations, let’s answer an interesting question about a dataset!\n",
    "\n",
    "Run the cell below to load the `imdb` table. It contains information about the 250 highest-rated movies on IMDb."
   ]
  },
  {
   "cell_type": "code",
   "execution_count": null,
   "metadata": {
    "id": "89p0Gs1EEwkV",
    "scrolled": true
   },
   "outputs": [],
   "source": [
    "# Just run this cell\n",
    "\n",
    "imdb = Table.read_table('imdb.csv')\n",
    "imdb"
   ]
  },
  {
   "cell_type": "markdown",
   "metadata": {
    "id": "9NT84LceEwkV"
   },
   "source": [
    "Often, we want to perform multiple operations - sorting, filtering, or others - in order to turn a table we have into something more useful. You can do these operations one by one, for example, with the above imdb table, we can do:\n",
    "\n",
    "```\n",
    "first_step = imdb.where('Decade', are.equal_to(2010))\n",
    "second_step = first_step.sort('Rating', descending=True)\n",
    "```\n",
    "\n",
    "However, since the value of the expression `imdb.where('Decade', are.equal_to(2010))` is itself a table, you can just call a table method on it:\n",
    "\n",
    "```\n",
    "one_step = imdb.where('Decade', are.equal_to(2010)).sort('Rating', descending=True)\n",
    "```\n",
    "You should organize your work in the way that makes the most sense to you, using informative names for any intermediate tables you create. "
   ]
  },
  {
   "cell_type": "markdown",
   "metadata": {
    "deletable": false,
    "editable": false,
    "id": "S_XKm0VOEwkV"
   },
   "source": [
    "**Question 4.1.** Create a table of movies released between 2010 and 2016 (inclusive) with ratings above 8. The table should only contain the columns `Title` and `Rating`, **in that order**.\n",
    "\n",
    "Assign the table to the name `above_eight`.\n",
    "\n",
    "*Hint:* Think about the steps you need to take, and try to put them in an order that make sense. Feel free to create intermediate tables for each step, but please make sure you assign your final table the name `above_eight`!"
   ]
  },
  {
   "cell_type": "code",
   "execution_count": null,
   "metadata": {
    "id": "bIR42eD0EwkW"
   },
   "outputs": [],
   "source": [
    "above_eight = ...\n",
    "above_eight"
   ]
  },
  {
   "cell_type": "code",
   "execution_count": null,
   "metadata": {
    "deletable": false,
    "id": "QL7SXt_kEwkW"
   },
   "outputs": [],
   "source": [
    "# Testing Question 4.1 \n",
    "grader.check(\"q41\")"
   ]
  },
  {
   "cell_type": "markdown",
   "metadata": {
    "deletable": false,
    "editable": false,
    "id": "tTniVZs3EwkW"
   },
   "source": [
    "**Question 4.2.** Use `num_rows` (and arithmetic) to find the *proportion* of movies in the dataset that were released 1900-1999, and the *proportion* of movies in the dataset that were released in the year 2000 or later.\n",
    "\n",
    "Assign `proportion_in_20th_century` to the proportion of movies in the dataset that were released 1900-1999, and `proportion_in_21st_century` to the proportion of movies in the dataset that were released in the year 2000 or later.\n",
    "\n",
    "*Hint:* The *proportion* of movies released in the 1900's is the *number* of movies released in the 1900's, divided by the *total number* of movies.\n"
   ]
  },
  {
   "cell_type": "code",
   "execution_count": null,
   "metadata": {
    "id": "XOGpqLcaEwkW"
   },
   "outputs": [],
   "source": [
    "num_movies_in_dataset = ..\n",
    "num_in_20th_century = ...\n",
    "num_in_21st_century = ...\n",
    "proportion_in_20th_century =  ...\n",
    "proportion_in_21st_century = ...\n",
    "print(\"Proportion in 20th century:\", proportion_in_20th_century)\n",
    "print(\"Proportion in 21st century:\", proportion_in_21st_century)"
   ]
  },
  {
   "cell_type": "code",
   "execution_count": null,
   "metadata": {
    "deletable": false,
    "id": "jhMjdy_DEwkX"
   },
   "outputs": [],
   "source": [
    "# Testing Question 4.2 \n",
    "grader.check(\"q42\")"
   ]
  },
  {
   "cell_type": "markdown",
   "metadata": {
    "id": "vzLEn3tKEwkX"
   },
   "source": [
    "## 5. Summary\n",
    "\n",
    "For your reference, here's a set of all the functions and methods we saw in this lab regarding table operations. We'll learn more methods to add to this set in the coming week!\n",
    "\n",
    "|Name|Example|Purpose|\n",
    "|-|-|-|\n",
    "|`sort`|`tbl.sort(\"N\")`|Create a copy of a table sorted by the values in a column|\n",
    "|`where`|`tbl.where(\"N\", are.above(2))`|Create a copy of a table with only the rows that match some *predicate*|\n",
    "|`num_rows`|`tbl.num_rows`|Compute the number of rows in a table|\n",
    "|`num_columns`|`tbl.num_columns`|Compute the number of columns in a table|\n",
    "|`select`|`tbl.select(\"N\")`|Create a copy of a table with only some of the columns|\n",
    "|`drop`|`tbl.drop(\"2*N\")`|Create a copy of a table without some of the columns|\n",
    "\n",
    "<br/>\n",
    "\n",
    "Terrific!  You're finished with Lab 2!  Be sure to:\n",
    "- **run** all the tests \n",
    "- **save** your notebook and **download** a pdf version of it,\n",
    "- **submit** your work to Gradescope, \n",
    "- and if you did not submit this lab by Thursday, ask your instructors to **check you off**."
   ]
  }
 ],
 "metadata": {
  "celltoolbar": "Edit Metadata",
  "colab": {
   "collapsed_sections": [
    "cTlaAE9AEwkQ",
    "VwUnjFE0EwkR",
    "6yylEkOdEwkR",
    "Q3vaz8kfEwkS",
    "oej3S59yEwkS",
    "5lSzuW-tEwkT"
   ],
   "name": "lab02_SW_Data80_Jan29.ipynb",
   "provenance": []
  },
  "kernelspec": {
   "display_name": "Python 3 (ipykernel)",
   "language": "python",
   "name": "python3"
  },
  "language_info": {
   "codemirror_mode": {
    "name": "ipython",
    "version": 3
   },
   "file_extension": ".py",
   "mimetype": "text/x-python",
   "name": "python",
   "nbconvert_exporter": "python",
   "pygments_lexer": "ipython3",
   "version": "3.9.12"
  }
 },
 "nbformat": 4,
 "nbformat_minor": 4
}
