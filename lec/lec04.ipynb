{
 "cells": [
  {
   "cell_type": "markdown",
   "metadata": {},
   "source": [
    "## Lecture 4 Demos ##"
   ]
  },
  {
   "cell_type": "code",
   "execution_count": 2,
   "metadata": {},
   "outputs": [],
   "source": [
    "from datascience import *\n",
    "import numpy as np\n",
    "\n",
    "%matplotlib inline\n",
    "import matplotlib.pyplot as plots\n",
    "plots.style.use('fivethirtyeight')"
   ]
  },
  {
   "cell_type": "markdown",
   "metadata": {},
   "source": [
    "## Arrays"
   ]
  },
  {
   "cell_type": "code",
   "execution_count": 3,
   "metadata": {},
   "outputs": [
    {
     "data": {
      "text/plain": [
       "array([67, 60, 71, 63, 65])"
      ]
     },
     "execution_count": 3,
     "metadata": {},
     "output_type": "execute_result"
    }
   ],
   "source": [
    "heights = make_array(67, 60, 71, 63, 65)\n",
    "heights"
   ]
  },
  {
   "cell_type": "code",
   "execution_count": 4,
   "metadata": {},
   "outputs": [
    {
     "data": {
      "text/plain": [
       "5"
      ]
     },
     "execution_count": 4,
     "metadata": {},
     "output_type": "execute_result"
    }
   ],
   "source": [
    "len(heights)"
   ]
  },
  {
   "cell_type": "code",
   "execution_count": 5,
   "metadata": {},
   "outputs": [
    {
     "data": {
      "text/plain": [
       "5"
      ]
     },
     "execution_count": 5,
     "metadata": {},
     "output_type": "execute_result"
    }
   ],
   "source": [
    "heights.size"
   ]
  },
  {
   "cell_type": "code",
   "execution_count": 6,
   "metadata": {},
   "outputs": [
    {
     "data": {
      "text/plain": [
       "326"
      ]
     },
     "execution_count": 6,
     "metadata": {},
     "output_type": "execute_result"
    }
   ],
   "source": [
    "sum(heights)"
   ]
  },
  {
   "cell_type": "code",
   "execution_count": 7,
   "metadata": {},
   "outputs": [
    {
     "data": {
      "text/plain": [
       "326"
      ]
     },
     "execution_count": 7,
     "metadata": {},
     "output_type": "execute_result"
    }
   ],
   "source": [
    "heights.sum()"
   ]
  },
  {
   "cell_type": "code",
   "execution_count": 8,
   "metadata": {},
   "outputs": [
    {
     "data": {
      "text/plain": [
       "65.2"
      ]
     },
     "execution_count": 8,
     "metadata": {},
     "output_type": "execute_result"
    }
   ],
   "source": [
    "sum(heights)/heights.size"
   ]
  },
  {
   "cell_type": "code",
   "execution_count": 9,
   "metadata": {},
   "outputs": [
    {
     "data": {
      "text/plain": [
       "65.2"
      ]
     },
     "execution_count": 9,
     "metadata": {},
     "output_type": "execute_result"
    }
   ],
   "source": [
    "np.average(heights) #second way to find average"
   ]
  },
  {
   "cell_type": "code",
   "execution_count": 10,
   "metadata": {},
   "outputs": [
    {
     "data": {
      "text/plain": [
       "67"
      ]
     },
     "execution_count": 10,
     "metadata": {},
     "output_type": "execute_result"
    }
   ],
   "source": [
    "heights.item(0)"
   ]
  },
  {
   "cell_type": "code",
   "execution_count": 11,
   "metadata": {},
   "outputs": [
    {
     "data": {
      "text/plain": [
       "array(['ok', 'ya', 'hm'], dtype='<U2')"
      ]
     },
     "execution_count": 11,
     "metadata": {},
     "output_type": "execute_result"
    }
   ],
   "source": [
    "strings_array = make_array('ok', 'ya', 'hm')\n",
    "strings_array"
   ]
  },
  {
   "cell_type": "code",
   "execution_count": 12,
   "metadata": {
    "scrolled": true
   },
   "outputs": [
    {
     "ename": "UFuncTypeError",
     "evalue": "ufunc 'multiply' did not contain a loop with signature matching types (dtype('<U2'), dtype('int64')) -> None",
     "output_type": "error",
     "traceback": [
      "\u001b[0;31m---------------------------------------------------------------------------\u001b[0m",
      "\u001b[0;31mUFuncTypeError\u001b[0m                            Traceback (most recent call last)",
      "\u001b[0;32m/tmp/ipykernel_48/1225985455.py\u001b[0m in \u001b[0;36m<module>\u001b[0;34m\u001b[0m\n\u001b[0;32m----> 1\u001b[0;31m \u001b[0mstrings_array\u001b[0m \u001b[0;34m*\u001b[0m \u001b[0;36m2\u001b[0m\u001b[0;34m\u001b[0m\u001b[0;34m\u001b[0m\u001b[0m\n\u001b[0m",
      "\u001b[0;31mUFuncTypeError\u001b[0m: ufunc 'multiply' did not contain a loop with signature matching types (dtype('<U2'), dtype('int64')) -> None"
     ]
    }
   ],
   "source": [
    "strings_array * 2  "
   ]
  },
  {
   "cell_type": "code",
   "execution_count": 13,
   "metadata": {},
   "outputs": [
    {
     "data": {
      "text/plain": [
       "63"
      ]
     },
     "execution_count": 13,
     "metadata": {},
     "output_type": "execute_result"
    }
   ],
   "source": [
    "heights.item(3)"
   ]
  },
  {
   "cell_type": "code",
   "execution_count": 14,
   "metadata": {},
   "outputs": [
    {
     "ename": "IndexError",
     "evalue": "index 5 is out of bounds for axis 0 with size 5",
     "output_type": "error",
     "traceback": [
      "\u001b[0;31m---------------------------------------------------------------------------\u001b[0m",
      "\u001b[0;31mIndexError\u001b[0m                                Traceback (most recent call last)",
      "\u001b[0;32m/tmp/ipykernel_48/393561315.py\u001b[0m in \u001b[0;36m<module>\u001b[0;34m\u001b[0m\n\u001b[0;32m----> 1\u001b[0;31m \u001b[0mheights\u001b[0m\u001b[0;34m.\u001b[0m\u001b[0mitem\u001b[0m\u001b[0;34m(\u001b[0m\u001b[0;36m5\u001b[0m\u001b[0;34m)\u001b[0m\u001b[0;34m\u001b[0m\u001b[0;34m\u001b[0m\u001b[0m\n\u001b[0m",
      "\u001b[0;31mIndexError\u001b[0m: index 5 is out of bounds for axis 0 with size 5"
     ]
    }
   ],
   "source": [
    "heights.item(5)"
   ]
  },
  {
   "cell_type": "code",
   "execution_count": 15,
   "metadata": {},
   "outputs": [
    {
     "data": {
      "text/plain": [
       "'ok'"
      ]
     },
     "execution_count": 15,
     "metadata": {},
     "output_type": "execute_result"
    }
   ],
   "source": [
    "strings_array.item(0)"
   ]
  },
  {
   "cell_type": "code",
   "execution_count": 16,
   "metadata": {},
   "outputs": [
    {
     "data": {
      "text/plain": [
       "'hm'"
      ]
     },
     "execution_count": 16,
     "metadata": {},
     "output_type": "execute_result"
    }
   ],
   "source": [
    "strings_array.item(len(strings_array)-1)"
   ]
  },
  {
   "cell_type": "code",
   "execution_count": 17,
   "metadata": {},
   "outputs": [
    {
     "data": {
      "text/plain": [
       "'hm'"
      ]
     },
     "execution_count": 17,
     "metadata": {},
     "output_type": "execute_result"
    }
   ],
   "source": [
    "strings_array.item(-1)"
   ]
  },
  {
   "cell_type": "markdown",
   "metadata": {},
   "source": [
    "## Ranges ## \n",
    "Range creates an array"
   ]
  },
  {
   "cell_type": "code",
   "execution_count": 18,
   "metadata": {},
   "outputs": [
    {
     "data": {
      "text/plain": [
       "array([0, 1, 2, 3, 4, 5, 6])"
      ]
     },
     "execution_count": 18,
     "metadata": {},
     "output_type": "execute_result"
    }
   ],
   "source": [
    "make_array(0, 1, 2, 3, 4, 5, 6)"
   ]
  },
  {
   "cell_type": "code",
   "execution_count": 20,
   "metadata": {},
   "outputs": [
    {
     "data": {
      "text/plain": [
       "array([0, 1, 2, 3, 4, 5, 6])"
      ]
     },
     "execution_count": 20,
     "metadata": {},
     "output_type": "execute_result"
    }
   ],
   "source": [
    "np.arange(7)"
   ]
  },
  {
   "cell_type": "code",
   "execution_count": 21,
   "metadata": {},
   "outputs": [
    {
     "data": {
      "text/plain": [
       "array([ 0,  1,  2,  3,  4,  5,  6,  7,  8,  9, 10, 11])"
      ]
     },
     "execution_count": 21,
     "metadata": {},
     "output_type": "execute_result"
    }
   ],
   "source": [
    "np.arange(12)"
   ]
  },
  {
   "cell_type": "code",
   "execution_count": 22,
   "metadata": {},
   "outputs": [
    {
     "data": {
      "text/plain": [
       "array([ 0,  1,  2,  3,  4,  5,  6,  7,  8,  9, 10, 11, 12, 13, 14, 15, 16,\n",
       "       17, 18, 19, 20, 21, 22, 23, 24, 25, 26, 27, 28, 29, 30, 31, 32, 33,\n",
       "       34, 35, 36, 37, 38, 39, 40, 41, 42, 43, 44, 45, 46, 47, 48, 49, 50,\n",
       "       51, 52, 53, 54, 55, 56, 57, 58, 59, 60, 61, 62, 63, 64, 65, 66, 67,\n",
       "       68, 69, 70, 71, 72, 73, 74, 75, 76, 77, 78, 79, 80, 81, 82, 83, 84,\n",
       "       85, 86, 87, 88, 89, 90, 91, 92, 93, 94, 95, 96, 97, 98, 99])"
      ]
     },
     "execution_count": 22,
     "metadata": {},
     "output_type": "execute_result"
    }
   ],
   "source": [
    "np.arange(100)"
   ]
  },
  {
   "cell_type": "code",
   "execution_count": 23,
   "metadata": {},
   "outputs": [
    {
     "data": {
      "text/plain": [
       "array([3, 4, 5, 6, 7, 8, 9])"
      ]
     },
     "execution_count": 23,
     "metadata": {},
     "output_type": "execute_result"
    }
   ],
   "source": [
    "np.arange(3,10)"
   ]
  },
  {
   "cell_type": "code",
   "execution_count": 24,
   "metadata": {},
   "outputs": [
    {
     "data": {
      "text/plain": [
       "array([3, 5, 7, 9])"
      ]
     },
     "execution_count": 24,
     "metadata": {},
     "output_type": "execute_result"
    }
   ],
   "source": [
    "np.arange(3,10,2)"
   ]
  },
  {
   "cell_type": "code",
   "execution_count": 25,
   "metadata": {},
   "outputs": [
    {
     "data": {
      "text/plain": [
       "array([0. , 0.1, 0.2, 0.3, 0.4, 0.5, 0.6, 0.7, 0.8, 0.9])"
      ]
     },
     "execution_count": 25,
     "metadata": {},
     "output_type": "execute_result"
    }
   ],
   "source": [
    "np.arange(0, 1, 0.1)"
   ]
  },
  {
   "cell_type": "code",
   "execution_count": 26,
   "metadata": {},
   "outputs": [],
   "source": [
    "a = np.arange(8)"
   ]
  },
  {
   "cell_type": "code",
   "execution_count": 27,
   "metadata": {},
   "outputs": [
    {
     "data": {
      "text/plain": [
       "array([0, 1, 2, 3, 4, 5, 6, 7])"
      ]
     },
     "execution_count": 27,
     "metadata": {},
     "output_type": "execute_result"
    }
   ],
   "source": [
    "a"
   ]
  },
  {
   "cell_type": "code",
   "execution_count": 28,
   "metadata": {},
   "outputs": [
    {
     "ename": "IndexError",
     "evalue": "index 8 is out of bounds for axis 0 with size 8",
     "output_type": "error",
     "traceback": [
      "\u001b[0;31m---------------------------------------------------------------------------\u001b[0m",
      "\u001b[0;31mIndexError\u001b[0m                                Traceback (most recent call last)",
      "\u001b[0;32m/tmp/ipykernel_48/367197626.py\u001b[0m in \u001b[0;36m<module>\u001b[0;34m\u001b[0m\n\u001b[0;32m----> 1\u001b[0;31m \u001b[0ma\u001b[0m\u001b[0;34m.\u001b[0m\u001b[0mitem\u001b[0m\u001b[0;34m(\u001b[0m\u001b[0;36m8\u001b[0m\u001b[0;34m)\u001b[0m \u001b[0;31m# error\u001b[0m\u001b[0;34m\u001b[0m\u001b[0;34m\u001b[0m\u001b[0m\n\u001b[0m",
      "\u001b[0;31mIndexError\u001b[0m: index 8 is out of bounds for axis 0 with size 8"
     ]
    }
   ],
   "source": [
    "a.item(8) # error"
   ]
  },
  {
   "cell_type": "code",
   "execution_count": 29,
   "metadata": {},
   "outputs": [
    {
     "data": {
      "text/plain": [
       "7"
      ]
     },
     "execution_count": 29,
     "metadata": {},
     "output_type": "execute_result"
    }
   ],
   "source": [
    "a.item(7)"
   ]
  },
  {
   "cell_type": "code",
   "execution_count": 30,
   "metadata": {},
   "outputs": [
    {
     "data": {
      "text/plain": [
       "array([10,  8,  6,  4])"
      ]
     },
     "execution_count": 30,
     "metadata": {},
     "output_type": "execute_result"
    }
   ],
   "source": [
    "np.arange(10, 2, -2)"
   ]
  },
  {
   "cell_type": "code",
   "execution_count": 31,
   "metadata": {},
   "outputs": [
    {
     "data": {
      "text/plain": [
       "array([], dtype=int64)"
      ]
     },
     "execution_count": 31,
     "metadata": {},
     "output_type": "execute_result"
    }
   ],
   "source": [
    "np.arange(10,10)"
   ]
  },
  {
   "cell_type": "markdown",
   "metadata": {},
   "source": [
    "## Creating a Table from Scratch ##"
   ]
  },
  {
   "cell_type": "code",
   "execution_count": 32,
   "metadata": {},
   "outputs": [
    {
     "data": {
      "text/plain": [
       "array(['MacArthur', 'Pierson', 'Millsview', 'Camden'], dtype='<U9')"
      ]
     },
     "execution_count": 32,
     "metadata": {},
     "output_type": "execute_result"
    }
   ],
   "source": [
    "street_names = make_array('MacArthur', 'Pierson', 'Millsview', 'Camden')\n",
    "street_names"
   ]
  },
  {
   "cell_type": "code",
   "execution_count": 33,
   "metadata": {},
   "outputs": [
    {
     "data": {
      "text/html": [
       "<table border=\"1\" class=\"dataframe\">\n",
       "    <thead>\n",
       "        <tr>\n",
       "            \n",
       "        </tr>\n",
       "    </thead>\n",
       "    <tbody>\n",
       "    </tbody>\n",
       "</table>"
      ],
      "text/plain": []
     },
     "execution_count": 33,
     "metadata": {},
     "output_type": "execute_result"
    }
   ],
   "source": [
    "Table() # builds an empty table"
   ]
  },
  {
   "cell_type": "code",
   "execution_count": 34,
   "metadata": {},
   "outputs": [
    {
     "data": {
      "text/html": [
       "<table border=\"1\" class=\"dataframe\">\n",
       "    <thead>\n",
       "        <tr>\n",
       "            <th>Streets</th>\n",
       "        </tr>\n",
       "    </thead>\n",
       "    <tbody>\n",
       "        <tr>\n",
       "            <td>MacArthur</td>\n",
       "        </tr>\n",
       "        <tr>\n",
       "            <td>Pierson  </td>\n",
       "        </tr>\n",
       "        <tr>\n",
       "            <td>Millsview</td>\n",
       "        </tr>\n",
       "        <tr>\n",
       "            <td>Camden   </td>\n",
       "        </tr>\n",
       "    </tbody>\n",
       "</table>"
      ],
      "text/plain": [
       "Streets\n",
       "MacArthur\n",
       "Pierson\n",
       "Millsview\n",
       "Camden"
      ]
     },
     "execution_count": 34,
     "metadata": {},
     "output_type": "execute_result"
    }
   ],
   "source": [
    " Table().with_columns('Streets', street_names)"
   ]
  },
  {
   "cell_type": "code",
   "execution_count": 35,
   "metadata": {},
   "outputs": [
    {
     "data": {
      "text/html": [
       "<table border=\"1\" class=\"dataframe\">\n",
       "    <thead>\n",
       "        <tr>\n",
       "            <th>Streets</th>\n",
       "        </tr>\n",
       "    </thead>\n",
       "    <tbody>\n",
       "        <tr>\n",
       "            <td>MacArthur</td>\n",
       "        </tr>\n",
       "        <tr>\n",
       "            <td>Pierson  </td>\n",
       "        </tr>\n",
       "        <tr>\n",
       "            <td>Millsview</td>\n",
       "        </tr>\n",
       "        <tr>\n",
       "            <td>Camden   </td>\n",
       "        </tr>\n",
       "    </tbody>\n",
       "</table>"
      ],
      "text/plain": [
       "Streets\n",
       "MacArthur\n",
       "Pierson\n",
       "Millsview\n",
       "Camden"
      ]
     },
     "execution_count": 35,
     "metadata": {},
     "output_type": "execute_result"
    }
   ],
   "source": [
    "east = Table().with_column('Streets', street_names)\n",
    "east"
   ]
  },
  {
   "cell_type": "code",
   "execution_count": 36,
   "metadata": {},
   "outputs": [
    {
     "data": {
      "text/html": [
       "<table border=\"1\" class=\"dataframe\">\n",
       "    <thead>\n",
       "        <tr>\n",
       "            <th>Streets</th> <th>Blocks from Mills</th>\n",
       "        </tr>\n",
       "    </thead>\n",
       "    <tbody>\n",
       "        <tr>\n",
       "            <td>MacArthur</td> <td>0                </td>\n",
       "        </tr>\n",
       "        <tr>\n",
       "            <td>Pierson  </td> <td>1                </td>\n",
       "        </tr>\n",
       "        <tr>\n",
       "            <td>Millsview</td> <td>2                </td>\n",
       "        </tr>\n",
       "        <tr>\n",
       "            <td>Camden   </td> <td>3                </td>\n",
       "        </tr>\n",
       "    </tbody>\n",
       "</table>"
      ],
      "text/plain": [
       "Streets   | Blocks from Mills\n",
       "MacArthur | 0\n",
       "Pierson   | 1\n",
       "Millsview | 2\n",
       "Camden    | 3"
      ]
     },
     "execution_count": 36,
     "metadata": {},
     "output_type": "execute_result"
    }
   ],
   "source": [
    "east.with_columns('Blocks from Mills', np.arange(4)) # returns a new table"
   ]
  },
  {
   "cell_type": "code",
   "execution_count": 37,
   "metadata": {},
   "outputs": [
    {
     "data": {
      "text/html": [
       "<table border=\"1\" class=\"dataframe\">\n",
       "    <thead>\n",
       "        <tr>\n",
       "            <th>Streets</th>\n",
       "        </tr>\n",
       "    </thead>\n",
       "    <tbody>\n",
       "        <tr>\n",
       "            <td>MacArthur</td>\n",
       "        </tr>\n",
       "        <tr>\n",
       "            <td>Pierson  </td>\n",
       "        </tr>\n",
       "        <tr>\n",
       "            <td>Millsview</td>\n",
       "        </tr>\n",
       "        <tr>\n",
       "            <td>Camden   </td>\n",
       "        </tr>\n",
       "    </tbody>\n",
       "</table>"
      ],
      "text/plain": [
       "Streets\n",
       "MacArthur\n",
       "Pierson\n",
       "Millsview\n",
       "Camden"
      ]
     },
     "execution_count": 37,
     "metadata": {},
     "output_type": "execute_result"
    }
   ],
   "source": [
    "east"
   ]
  },
  {
   "cell_type": "code",
   "execution_count": 38,
   "metadata": {},
   "outputs": [
    {
     "data": {
      "text/html": [
       "<table border=\"1\" class=\"dataframe\">\n",
       "    <thead>\n",
       "        <tr>\n",
       "            <th>Streets</th> <th>Blocks from Mills</th>\n",
       "        </tr>\n",
       "    </thead>\n",
       "    <tbody>\n",
       "        <tr>\n",
       "            <td>MacArthur</td> <td>0                </td>\n",
       "        </tr>\n",
       "        <tr>\n",
       "            <td>Pierson  </td> <td>1                </td>\n",
       "        </tr>\n",
       "        <tr>\n",
       "            <td>Millsview</td> <td>2                </td>\n",
       "        </tr>\n",
       "        <tr>\n",
       "            <td>Camden   </td> <td>3                </td>\n",
       "        </tr>\n",
       "    </tbody>\n",
       "</table>"
      ],
      "text/plain": [
       "Streets   | Blocks from Mills\n",
       "MacArthur | 0\n",
       "Pierson   | 1\n",
       "Millsview | 2\n",
       "Camden    | 3"
      ]
     },
     "execution_count": 38,
     "metadata": {},
     "output_type": "execute_result"
    }
   ],
   "source": [
    "east = east.with_columns('Blocks from Mills', np.arange(4))\n",
    "east"
   ]
  },
  {
   "cell_type": "code",
   "execution_count": 39,
   "metadata": {},
   "outputs": [
    {
     "data": {
      "text/html": [
       "<table border=\"1\" class=\"dataframe\">\n",
       "    <thead>\n",
       "        <tr>\n",
       "            <th>Streets</th> <th>Blocks from Mills</th>\n",
       "        </tr>\n",
       "    </thead>\n",
       "    <tbody>\n",
       "        <tr>\n",
       "            <td>MacArthur</td> <td>0                </td>\n",
       "        </tr>\n",
       "        <tr>\n",
       "            <td>Pierson  </td> <td>1                </td>\n",
       "        </tr>\n",
       "        <tr>\n",
       "            <td>Millsview</td> <td>2                </td>\n",
       "        </tr>\n",
       "        <tr>\n",
       "            <td>Camden   </td> <td>3                </td>\n",
       "        </tr>\n",
       "    </tbody>\n",
       "</table>"
      ],
      "text/plain": [
       "Streets   | Blocks from Mills\n",
       "MacArthur | 0\n",
       "Pierson   | 1\n",
       "Millsview | 2\n",
       "Camden    | 3"
      ]
     },
     "execution_count": 39,
     "metadata": {},
     "output_type": "execute_result"
    }
   ],
   "source": [
    "east = east.with_columns('Blocks from Mills', make_array(0,1,2,3))\n",
    "east"
   ]
  },
  {
   "cell_type": "code",
   "execution_count": 40,
   "metadata": {},
   "outputs": [
    {
     "data": {
      "text/plain": [
       "('Streets', 'Blocks from Mills')"
      ]
     },
     "execution_count": 40,
     "metadata": {},
     "output_type": "execute_result"
    }
   ],
   "source": [
    "east.labels"
   ]
  },
  {
   "cell_type": "code",
   "execution_count": 41,
   "metadata": {},
   "outputs": [
    {
     "data": {
      "text/plain": [
       "2"
      ]
     },
     "execution_count": 41,
     "metadata": {},
     "output_type": "execute_result"
    }
   ],
   "source": [
    "east.num_columns"
   ]
  },
  {
   "cell_type": "code",
   "execution_count": 42,
   "metadata": {},
   "outputs": [
    {
     "data": {
      "text/plain": [
       "4"
      ]
     },
     "execution_count": 42,
     "metadata": {},
     "output_type": "execute_result"
    }
   ],
   "source": [
    "east.num_rows"
   ]
  },
  {
   "cell_type": "markdown",
   "metadata": {},
   "source": [
    "## Reading a Table from a File  ##"
   ]
  },
  {
   "cell_type": "code",
   "execution_count": 43,
   "metadata": {},
   "outputs": [
    {
     "data": {
      "text/html": [
       "<table border=\"1\" class=\"dataframe\">\n",
       "    <thead>\n",
       "        <tr>\n",
       "            <th>name</th> <th>material</th> <th>city</th> <th>height</th> <th>completed</th>\n",
       "        </tr>\n",
       "    </thead>\n",
       "    <tbody>\n",
       "        <tr>\n",
       "            <td>One World Trade Center           </td> <td>composite</td> <td>New York City</td> <td>541.3 </td> <td>2014     </td>\n",
       "        </tr>\n",
       "        <tr>\n",
       "            <td>Willis Tower                     </td> <td>steel    </td> <td>Chicago      </td> <td>442.14</td> <td>1974     </td>\n",
       "        </tr>\n",
       "        <tr>\n",
       "            <td>432 Park Avenue                  </td> <td>concrete </td> <td>New York City</td> <td>425.5 </td> <td>2015     </td>\n",
       "        </tr>\n",
       "        <tr>\n",
       "            <td>Trump International Hotel & Tower</td> <td>concrete </td> <td>Chicago      </td> <td>423.22</td> <td>2009     </td>\n",
       "        </tr>\n",
       "        <tr>\n",
       "            <td>Empire State Building            </td> <td>steel    </td> <td>New York City</td> <td>381   </td> <td>1931     </td>\n",
       "        </tr>\n",
       "        <tr>\n",
       "            <td>Bank of America Tower            </td> <td>composite</td> <td>New York City</td> <td>365.8 </td> <td>2009     </td>\n",
       "        </tr>\n",
       "        <tr>\n",
       "            <td>Stratosphere Tower               </td> <td>concrete </td> <td>Las Vegas    </td> <td>350.22</td> <td>1996     </td>\n",
       "        </tr>\n",
       "        <tr>\n",
       "            <td>Aon Center                       </td> <td>steel    </td> <td>Chicago      </td> <td>346.26</td> <td>1973     </td>\n",
       "        </tr>\n",
       "        <tr>\n",
       "            <td>John Hancock Center              </td> <td>steel    </td> <td>Chicago      </td> <td>343.69</td> <td>1969     </td>\n",
       "        </tr>\n",
       "        <tr>\n",
       "            <td>WITI TV Tower                    </td> <td>steel    </td> <td>Shorewood    </td> <td>329   </td> <td>1962     </td>\n",
       "        </tr>\n",
       "    </tbody>\n",
       "</table>\n",
       "<p>... (190 rows omitted)</p>"
      ],
      "text/plain": [
       "name                              | material  | city          | height | completed\n",
       "One World Trade Center            | composite | New York City | 541.3  | 2014\n",
       "Willis Tower                      | steel     | Chicago       | 442.14 | 1974\n",
       "432 Park Avenue                   | concrete  | New York City | 425.5  | 2015\n",
       "Trump International Hotel & Tower | concrete  | Chicago       | 423.22 | 2009\n",
       "Empire State Building             | steel     | New York City | 381    | 1931\n",
       "Bank of America Tower             | composite | New York City | 365.8  | 2009\n",
       "Stratosphere Tower                | concrete  | Las Vegas     | 350.22 | 1996\n",
       "Aon Center                        | steel     | Chicago       | 346.26 | 1973\n",
       "John Hancock Center               | steel     | Chicago       | 343.69 | 1969\n",
       "WITI TV Tower                     | steel     | Shorewood     | 329    | 1962\n",
       "... (190 rows omitted)"
      ]
     },
     "execution_count": 43,
     "metadata": {},
     "output_type": "execute_result"
    }
   ],
   "source": [
    "skyscrapers = Table.read_table('skyscrapers.csv')\n",
    "skyscrapers"
   ]
  },
  {
   "cell_type": "code",
   "execution_count": 44,
   "metadata": {},
   "outputs": [
    {
     "data": {
      "text/html": [
       "<table border=\"1\" class=\"dataframe\">\n",
       "    <thead>\n",
       "        <tr>\n",
       "            <th>name</th> <th>material</th> <th>city</th> <th>height</th> <th>completed</th>\n",
       "        </tr>\n",
       "    </thead>\n",
       "    <tbody>\n",
       "        <tr>\n",
       "            <td>Transamerica Pyramid </td> <td>composite</td> <td>San Francisco</td> <td>260   </td> <td>1972     </td>\n",
       "        </tr>\n",
       "        <tr>\n",
       "            <td>555 California Street</td> <td>steel    </td> <td>San Francisco</td> <td>237.44</td> <td>1969     </td>\n",
       "        </tr>\n",
       "        <tr>\n",
       "            <td>345 California Center</td> <td>steel    </td> <td>San Francisco</td> <td>211.84</td> <td>1986     </td>\n",
       "        </tr>\n",
       "        <tr>\n",
       "            <td>Millennium Tower     </td> <td>concrete </td> <td>San Francisco</td> <td>196.6 </td> <td>2009     </td>\n",
       "        </tr>\n",
       "    </tbody>\n",
       "</table>"
      ],
      "text/plain": [
       "name                  | material  | city          | height | completed\n",
       "Transamerica Pyramid  | composite | San Francisco | 260    | 1972\n",
       "555 California Street | steel     | San Francisco | 237.44 | 1969\n",
       "345 California Center | steel     | San Francisco | 211.84 | 1986\n",
       "Millennium Tower      | concrete  | San Francisco | 196.6  | 2009"
      ]
     },
     "execution_count": 44,
     "metadata": {},
     "output_type": "execute_result"
    }
   ],
   "source": [
    "sf = skyscrapers.where('city', 'San Francisco')\n",
    "sf"
   ]
  },
  {
   "cell_type": "markdown",
   "metadata": {},
   "source": [
    "## Columns of Tables are Arrays"
   ]
  },
  {
   "cell_type": "code",
   "execution_count": 45,
   "metadata": {},
   "outputs": [
    {
     "data": {
      "text/html": [
       "<table border=\"1\" class=\"dataframe\">\n",
       "    <thead>\n",
       "        <tr>\n",
       "            <th>height</th>\n",
       "        </tr>\n",
       "    </thead>\n",
       "    <tbody>\n",
       "        <tr>\n",
       "            <td>260   </td>\n",
       "        </tr>\n",
       "        <tr>\n",
       "            <td>237.44</td>\n",
       "        </tr>\n",
       "        <tr>\n",
       "            <td>211.84</td>\n",
       "        </tr>\n",
       "        <tr>\n",
       "            <td>196.6 </td>\n",
       "        </tr>\n",
       "    </tbody>\n",
       "</table>"
      ],
      "text/plain": [
       "height\n",
       "260\n",
       "237.44\n",
       "211.84\n",
       "196.6"
      ]
     },
     "execution_count": 45,
     "metadata": {},
     "output_type": "execute_result"
    }
   ],
   "source": [
    "sf.select('height') # returns a table"
   ]
  },
  {
   "cell_type": "code",
   "execution_count": 46,
   "metadata": {},
   "outputs": [
    {
     "data": {
      "text/plain": [
       "datascience.tables.Table"
      ]
     },
     "execution_count": 46,
     "metadata": {},
     "output_type": "execute_result"
    }
   ],
   "source": [
    "type(sf.select('height'))"
   ]
  },
  {
   "cell_type": "code",
   "execution_count": 47,
   "metadata": {},
   "outputs": [
    {
     "data": {
      "text/plain": [
       "array([260.        , 237.44000244, 211.83999634, 196.6000061 ])"
      ]
     },
     "execution_count": 47,
     "metadata": {},
     "output_type": "execute_result"
    }
   ],
   "source": [
    "sf.column('height') # returns an array"
   ]
  },
  {
   "cell_type": "code",
   "execution_count": 48,
   "metadata": {},
   "outputs": [
    {
     "data": {
      "text/plain": [
       "numpy.ndarray"
      ]
     },
     "execution_count": 48,
     "metadata": {},
     "output_type": "execute_result"
    }
   ],
   "source": [
    "type(sf.column('height'))"
   ]
  },
  {
   "cell_type": "code",
   "execution_count": 49,
   "metadata": {},
   "outputs": [
    {
     "data": {
      "text/plain": [
       "260.0"
      ]
     },
     "execution_count": 49,
     "metadata": {},
     "output_type": "execute_result"
    }
   ],
   "source": [
    "# what is the max height of a building in SF?\n",
    "max(sf.column('height'))"
   ]
  },
  {
   "cell_type": "code",
   "execution_count": null,
   "metadata": {},
   "outputs": [],
   "source": [
    "# name of building with maximum height"
   ]
  },
  {
   "cell_type": "code",
   "execution_count": 51,
   "metadata": {},
   "outputs": [
    {
     "ename": "NameError",
     "evalue": "name 'sort' is not defined",
     "output_type": "error",
     "traceback": [
      "\u001b[0;31m---------------------------------------------------------------------------\u001b[0m",
      "\u001b[0;31mNameError\u001b[0m                                 Traceback (most recent call last)",
      "\u001b[0;32m/tmp/ipykernel_48/2595314070.py\u001b[0m in \u001b[0;36m<module>\u001b[0;34m\u001b[0m\n\u001b[0;32m----> 1\u001b[0;31m \u001b[0msort\u001b[0m\u001b[0;34m(\u001b[0m\u001b[0msf\u001b[0m\u001b[0;34m.\u001b[0m\u001b[0mcolumn\u001b[0m\u001b[0;34m(\u001b[0m\u001b[0;34m'height'\u001b[0m\u001b[0;34m)\u001b[0m\u001b[0;34m)\u001b[0m\u001b[0;34m\u001b[0m\u001b[0;34m\u001b[0m\u001b[0m\n\u001b[0m",
      "\u001b[0;31mNameError\u001b[0m: name 'sort' is not defined"
     ]
    }
   ],
   "source": [
    "sort(sf.column('height'))"
   ]
  },
  {
   "cell_type": "code",
   "execution_count": 52,
   "metadata": {},
   "outputs": [
    {
     "data": {
      "text/html": [
       "<table border=\"1\" class=\"dataframe\">\n",
       "    <thead>\n",
       "        <tr>\n",
       "            <th>name</th> <th>material</th> <th>city</th> <th>height</th> <th>completed</th>\n",
       "        </tr>\n",
       "    </thead>\n",
       "    <tbody>\n",
       "        <tr>\n",
       "            <td>Millennium Tower     </td> <td>concrete </td> <td>San Francisco</td> <td>196.6 </td> <td>2009     </td>\n",
       "        </tr>\n",
       "        <tr>\n",
       "            <td>345 California Center</td> <td>steel    </td> <td>San Francisco</td> <td>211.84</td> <td>1986     </td>\n",
       "        </tr>\n",
       "        <tr>\n",
       "            <td>555 California Street</td> <td>steel    </td> <td>San Francisco</td> <td>237.44</td> <td>1969     </td>\n",
       "        </tr>\n",
       "        <tr>\n",
       "            <td>Transamerica Pyramid </td> <td>composite</td> <td>San Francisco</td> <td>260   </td> <td>1972     </td>\n",
       "        </tr>\n",
       "    </tbody>\n",
       "</table>"
      ],
      "text/plain": [
       "name                  | material  | city          | height | completed\n",
       "Millennium Tower      | concrete  | San Francisco | 196.6  | 2009\n",
       "345 California Center | steel     | San Francisco | 211.84 | 1986\n",
       "555 California Street | steel     | San Francisco | 237.44 | 1969\n",
       "Transamerica Pyramid  | composite | San Francisco | 260    | 1972"
      ]
     },
     "execution_count": 52,
     "metadata": {},
     "output_type": "execute_result"
    }
   ],
   "source": [
    "sf.sort('height')"
   ]
  },
  {
   "cell_type": "code",
   "execution_count": 53,
   "metadata": {},
   "outputs": [
    {
     "name": "stderr",
     "output_type": "stream",
     "text": [
      "/opt/conda/lib/python3.7/site-packages/datascience/tables.py:222: FutureWarning: Implicit column method lookup is deprecated.\n",
      "  warnings.warn(\"Implicit column method lookup is deprecated.\", FutureWarning)\n"
     ]
    },
    {
     "data": {
      "text/html": [
       "<table border=\"1\" class=\"dataframe\">\n",
       "    <thead>\n",
       "        <tr>\n",
       "            <th>name</th>\n",
       "        </tr>\n",
       "    </thead>\n",
       "    <tbody>\n",
       "        <tr>\n",
       "            <td>Transamerica Pyramid</td>\n",
       "        </tr>\n",
       "    </tbody>\n",
       "</table>"
      ],
      "text/plain": [
       "name\n",
       "Transamerica Pyramid"
      ]
     },
     "execution_count": 53,
     "metadata": {},
     "output_type": "execute_result"
    }
   ],
   "source": [
    "sf.sort('height').select('name').item(sf.num_rows-1)"
   ]
  },
  {
   "cell_type": "code",
   "execution_count": 54,
   "metadata": {},
   "outputs": [
    {
     "data": {
      "text/html": [
       "<table border=\"1\" class=\"dataframe\">\n",
       "    <thead>\n",
       "        <tr>\n",
       "            <th>name</th> <th>material</th> <th>city</th> <th>height</th> <th>completed</th>\n",
       "        </tr>\n",
       "    </thead>\n",
       "    <tbody>\n",
       "        <tr>\n",
       "            <td>Transamerica Pyramid </td> <td>composite</td> <td>San Francisco</td> <td>260   </td> <td>1972     </td>\n",
       "        </tr>\n",
       "        <tr>\n",
       "            <td>345 California Center</td> <td>steel    </td> <td>San Francisco</td> <td>211.84</td> <td>1986     </td>\n",
       "        </tr>\n",
       "        <tr>\n",
       "            <td>Millennium Tower     </td> <td>concrete </td> <td>San Francisco</td> <td>196.6 </td> <td>2009     </td>\n",
       "        </tr>\n",
       "    </tbody>\n",
       "</table>"
      ],
      "text/plain": [
       "name                  | material  | city          | height | completed\n",
       "Transamerica Pyramid  | composite | San Francisco | 260    | 1972\n",
       "345 California Center | steel     | San Francisco | 211.84 | 1986\n",
       "Millennium Tower      | concrete  | San Francisco | 196.6  | 2009"
      ]
     },
     "execution_count": 54,
     "metadata": {},
     "output_type": "execute_result"
    }
   ],
   "source": [
    "sf.take(0,2,3)"
   ]
  },
  {
   "cell_type": "code",
   "execution_count": 55,
   "metadata": {},
   "outputs": [
    {
     "data": {
      "text/html": [
       "<table border=\"1\" class=\"dataframe\">\n",
       "    <thead>\n",
       "        <tr>\n",
       "            <th>name</th> <th>material</th> <th>city</th> <th>height</th> <th>completed</th>\n",
       "        </tr>\n",
       "    </thead>\n",
       "    <tbody>\n",
       "        <tr>\n",
       "            <td>Transamerica Pyramid </td> <td>composite</td> <td>San Francisco</td> <td>260   </td> <td>1972     </td>\n",
       "        </tr>\n",
       "        <tr>\n",
       "            <td>555 California Street</td> <td>steel    </td> <td>San Francisco</td> <td>237.44</td> <td>1969     </td>\n",
       "        </tr>\n",
       "        <tr>\n",
       "            <td>345 California Center</td> <td>steel    </td> <td>San Francisco</td> <td>211.84</td> <td>1986     </td>\n",
       "        </tr>\n",
       "    </tbody>\n",
       "</table>"
      ],
      "text/plain": [
       "name                  | material  | city          | height | completed\n",
       "Transamerica Pyramid  | composite | San Francisco | 260    | 1972\n",
       "555 California Street | steel     | San Francisco | 237.44 | 1969\n",
       "345 California Center | steel     | San Francisco | 211.84 | 1986"
      ]
     },
     "execution_count": 55,
     "metadata": {},
     "output_type": "execute_result"
    }
   ],
   "source": [
    "sf.take(0,1,2)"
   ]
  },
  {
   "cell_type": "code",
   "execution_count": 56,
   "metadata": {},
   "outputs": [
    {
     "data": {
      "text/html": [
       "<table border=\"1\" class=\"dataframe\">\n",
       "    <thead>\n",
       "        <tr>\n",
       "            <th>name</th> <th>material</th> <th>city</th> <th>height</th> <th>completed</th>\n",
       "        </tr>\n",
       "    </thead>\n",
       "    <tbody>\n",
       "        <tr>\n",
       "            <td>Transamerica Pyramid </td> <td>composite</td> <td>San Francisco</td> <td>260   </td> <td>1972     </td>\n",
       "        </tr>\n",
       "        <tr>\n",
       "            <td>555 California Street</td> <td>steel    </td> <td>San Francisco</td> <td>237.44</td> <td>1969     </td>\n",
       "        </tr>\n",
       "        <tr>\n",
       "            <td>345 California Center</td> <td>steel    </td> <td>San Francisco</td> <td>211.84</td> <td>1986     </td>\n",
       "        </tr>\n",
       "    </tbody>\n",
       "</table>"
      ],
      "text/plain": [
       "name                  | material  | city          | height | completed\n",
       "Transamerica Pyramid  | composite | San Francisco | 260    | 1972\n",
       "555 California Street | steel     | San Francisco | 237.44 | 1969\n",
       "345 California Center | steel     | San Francisco | 211.84 | 1986"
      ]
     },
     "execution_count": 56,
     "metadata": {},
     "output_type": "execute_result"
    }
   ],
   "source": [
    "sf.take(np.arange(3))"
   ]
  },
  {
   "cell_type": "code",
   "execution_count": 57,
   "metadata": {},
   "outputs": [
    {
     "data": {
      "text/html": [
       "<table border=\"1\" class=\"dataframe\">\n",
       "    <thead>\n",
       "        <tr>\n",
       "            <th>name</th> <th>material</th> <th>city</th> <th>height</th> <th>completed</th>\n",
       "        </tr>\n",
       "    </thead>\n",
       "    <tbody>\n",
       "        <tr>\n",
       "            <td>Transamerica Pyramid </td> <td>composite</td> <td>San Francisco</td> <td>260   </td> <td>1972     </td>\n",
       "        </tr>\n",
       "        <tr>\n",
       "            <td>555 California Street</td> <td>steel    </td> <td>San Francisco</td> <td>237.44</td> <td>1969     </td>\n",
       "        </tr>\n",
       "        <tr>\n",
       "            <td>345 California Center</td> <td>steel    </td> <td>San Francisco</td> <td>211.84</td> <td>1986     </td>\n",
       "        </tr>\n",
       "        <tr>\n",
       "            <td>Millennium Tower     </td> <td>concrete </td> <td>San Francisco</td> <td>196.6 </td> <td>2009     </td>\n",
       "        </tr>\n",
       "    </tbody>\n",
       "</table>"
      ],
      "text/plain": [
       "name                  | material  | city          | height | completed\n",
       "Transamerica Pyramid  | composite | San Francisco | 260    | 1972\n",
       "555 California Street | steel     | San Francisco | 237.44 | 1969\n",
       "345 California Center | steel     | San Francisco | 211.84 | 1986\n",
       "Millennium Tower      | concrete  | San Francisco | 196.6  | 2009"
      ]
     },
     "execution_count": 57,
     "metadata": {},
     "output_type": "execute_result"
    }
   ],
   "source": [
    "sf"
   ]
  },
  {
   "cell_type": "markdown",
   "metadata": {},
   "source": [
    "## Selecting data in a column ##"
   ]
  },
  {
   "cell_type": "code",
   "execution_count": 58,
   "metadata": {},
   "outputs": [
    {
     "data": {
      "text/html": [
       "<table border=\"1\" class=\"dataframe\">\n",
       "    <thead>\n",
       "        <tr>\n",
       "            <th>Year</th> <th>Average Ticket Price</th> <th>Total Gross</th> <th>Number of Movies</th> <th>#1 Movie</th>\n",
       "        </tr>\n",
       "    </thead>\n",
       "    <tbody>\n",
       "        <tr>\n",
       "            <td>2019</td> <td>9.16                </td> <td>11237.9    </td> <td>788             </td> <td>Avengers: Endgame                             </td>\n",
       "        </tr>\n",
       "        <tr>\n",
       "            <td>2018</td> <td>9.11                </td> <td>11611.3    </td> <td>878             </td> <td>Black Panther                                 </td>\n",
       "        </tr>\n",
       "        <tr>\n",
       "            <td>2017</td> <td>8.97                </td> <td>11125.4    </td> <td>740             </td> <td>Star Wars: Episode VIII - The Last Jedi       </td>\n",
       "        </tr>\n",
       "        <tr>\n",
       "            <td>2016</td> <td>8.65                </td> <td>11373.7    </td> <td>737             </td> <td>Rogue One: A Star Wars Story                  </td>\n",
       "        </tr>\n",
       "        <tr>\n",
       "            <td>2015</td> <td>8.43                </td> <td>11098.8    </td> <td>706             </td> <td>Star Wars: Episode VII - The Force Awakens    </td>\n",
       "        </tr>\n",
       "        <tr>\n",
       "            <td>2014</td> <td>8.17                </td> <td>10436.8    </td> <td>708             </td> <td>American Sniper                               </td>\n",
       "        </tr>\n",
       "        <tr>\n",
       "            <td>2013</td> <td>8.13                </td> <td>10955.9    </td> <td>689             </td> <td>The Hunger Games: Catching Fire               </td>\n",
       "        </tr>\n",
       "        <tr>\n",
       "            <td>2012</td> <td>7.96                </td> <td>10959.6    </td> <td>669             </td> <td>The Avengers                                  </td>\n",
       "        </tr>\n",
       "        <tr>\n",
       "            <td>2011</td> <td>7.93                </td> <td>10114.1    </td> <td>601             </td> <td>Harry Potter and the Deathly Hallows: Part 2  </td>\n",
       "        </tr>\n",
       "        <tr>\n",
       "            <td>2010</td> <td>7.89                </td> <td>10212.7    </td> <td>538             </td> <td>Toy Story 3                                   </td>\n",
       "        </tr>\n",
       "        <tr>\n",
       "            <td>2009</td> <td>7.5                 </td> <td>10821.6    </td> <td>520             </td> <td>Avatar                                        </td>\n",
       "        </tr>\n",
       "        <tr>\n",
       "            <td>2008</td> <td>7.18                </td> <td>9698.2     </td> <td>607             </td> <td>The Dark Knight                               </td>\n",
       "        </tr>\n",
       "        <tr>\n",
       "            <td>2007</td> <td>6.88                </td> <td>9690.7     </td> <td>632             </td> <td>Spider-Man 3                                  </td>\n",
       "        </tr>\n",
       "        <tr>\n",
       "            <td>2006</td> <td>6.55                </td> <td>9214.6     </td> <td>608             </td> <td>Pirates of the Caribbean: Dead Man's Chest    </td>\n",
       "        </tr>\n",
       "        <tr>\n",
       "            <td>2005</td> <td>6.41                </td> <td>8804.7     </td> <td>547             </td> <td>Star Wars: Episode III - Revenge of the Sith  </td>\n",
       "        </tr>\n",
       "        <tr>\n",
       "            <td>2004</td> <td>6.21                </td> <td>9321.7     </td> <td>551             </td> <td>Shrek 2                                       </td>\n",
       "        </tr>\n",
       "        <tr>\n",
       "            <td>2003</td> <td>6.03                </td> <td>9057.5     </td> <td>506             </td> <td>The Lord of the Rings: The Return of the King </td>\n",
       "        </tr>\n",
       "        <tr>\n",
       "            <td>2002</td> <td>5.8                 </td> <td>9206.4     </td> <td>480             </td> <td>Spider-Man                                    </td>\n",
       "        </tr>\n",
       "        <tr>\n",
       "            <td>2001</td> <td>5.65                </td> <td>8070       </td> <td>356             </td> <td>Harry Potter and the Sorcerer's Stone         </td>\n",
       "        </tr>\n",
       "        <tr>\n",
       "            <td>2000</td> <td>5.39                </td> <td>7678.3     </td> <td>371             </td> <td>How the Grinch Stole Christmas                </td>\n",
       "        </tr>\n",
       "        <tr>\n",
       "            <td>1999</td> <td>5.06                </td> <td>7316.7     </td> <td>385             </td> <td>Star Wars: Episode I - The Phantom Menace     </td>\n",
       "        </tr>\n",
       "        <tr>\n",
       "            <td>1998</td> <td>4.69                </td> <td>6575.8     </td> <td>336             </td> <td>Saving Private Ryan                           </td>\n",
       "        </tr>\n",
       "        <tr>\n",
       "            <td>1997</td> <td>4.59                </td> <td>6671.8     </td> <td>303             </td> <td>Titanic                                       </td>\n",
       "        </tr>\n",
       "        <tr>\n",
       "            <td>1996</td> <td>4.42                </td> <td>5706.7     </td> <td>310             </td> <td>Independence Day                              </td>\n",
       "        </tr>\n",
       "        <tr>\n",
       "            <td>1995</td> <td>4.35                </td> <td>5383.5     </td> <td>279             </td> <td>Toy Story                                     </td>\n",
       "        </tr>\n",
       "        <tr>\n",
       "            <td>1994</td> <td>4.08                </td> <td>5079.2     </td> <td>254             </td> <td>Forrest Gump                                  </td>\n",
       "        </tr>\n",
       "        <tr>\n",
       "            <td>1993</td> <td>4.14                </td> <td>4983.2     </td> <td>258             </td> <td>Jurassic Park                                 </td>\n",
       "        </tr>\n",
       "        <tr>\n",
       "            <td>1992</td> <td>4.15                </td> <td>4603.9     </td> <td>234             </td> <td>Aladdin                                       </td>\n",
       "        </tr>\n",
       "        <tr>\n",
       "            <td>1991</td> <td>4.21                </td> <td>4313.9     </td> <td>244             </td> <td>Terminator 2: Judgment Day                    </td>\n",
       "        </tr>\n",
       "        <tr>\n",
       "            <td>1990</td> <td>4.22                </td> <td>4527       </td> <td>224             </td> <td>Home Alone                                    </td>\n",
       "        </tr>\n",
       "        <tr>\n",
       "            <td>1989</td> <td>3.99                </td> <td>4155.4     </td> <td>236             </td> <td>Batman                                        </td>\n",
       "        </tr>\n",
       "        <tr>\n",
       "            <td>1988</td> <td>4.11                </td> <td>3565.8     </td> <td>248             </td> <td>Rain Man                                      </td>\n",
       "        </tr>\n",
       "        <tr>\n",
       "            <td>1987</td> <td>3.91                </td> <td>3562.9     </td> <td>232             </td> <td>Three Men and a Baby                          </td>\n",
       "        </tr>\n",
       "        <tr>\n",
       "            <td>1986</td> <td>3.71                </td> <td>3200.5     </td> <td>207             </td> <td>Top Gun                                       </td>\n",
       "        </tr>\n",
       "        <tr>\n",
       "            <td>1985</td> <td>3.55                </td> <td>3056.4     </td> <td>180             </td> <td>Back to the Future                            </td>\n",
       "        </tr>\n",
       "        <tr>\n",
       "            <td>1984</td> <td>3.36                </td> <td>3347.7     </td> <td>165             </td> <td>Beverly Hills Cop                             </td>\n",
       "        </tr>\n",
       "        <tr>\n",
       "            <td>1983</td> <td>3.15                </td> <td>2652.9     </td> <td>158             </td> <td>Star Wars: Episode VI - Return of the Jedi    </td>\n",
       "        </tr>\n",
       "        <tr>\n",
       "            <td>1982</td> <td>2.94                </td> <td>2866.2     </td> <td>131             </td> <td>E.T. the Extra-Terrestrial                    </td>\n",
       "        </tr>\n",
       "        <tr>\n",
       "            <td>1981</td> <td>2.78                </td> <td>2281.9     </td> <td>112             </td> <td>Raiders of the Lost Ark                       </td>\n",
       "        </tr>\n",
       "        <tr>\n",
       "            <td>1980</td> <td>2.69                </td> <td>2299       </td> <td>115             </td> <td>Star Wars: Episode V - The Empire Strikes Back</td>\n",
       "        </tr>\n",
       "        <tr>\n",
       "            <td>1979</td> <td>2.47                </td> <td>1957.5     </td> <td>83              </td> <td>Kramer vs. Kramer                             </td>\n",
       "        </tr>\n",
       "        <tr>\n",
       "            <td>1978</td> <td>2.34                </td> <td>1552.3     </td> <td>55              </td> <td>Grease                                        </td>\n",
       "        </tr>\n",
       "        <tr>\n",
       "            <td>1977</td> <td>2.23                </td> <td>1373.1     </td> <td>35              </td> <td>Star Wars: Episode IV - A New Hope            </td>\n",
       "        </tr>\n",
       "    </tbody>\n",
       "</table>"
      ],
      "text/plain": [
       "<IPython.core.display.HTML object>"
      ]
     },
     "metadata": {},
     "output_type": "display_data"
    }
   ],
   "source": [
    "movies = Table.read_table('movies_by_year_with_ticket_price.csv')\n",
    "movies.show()"
   ]
  },
  {
   "cell_type": "code",
   "execution_count": 60,
   "metadata": {},
   "outputs": [
    {
     "data": {
      "text/plain": [
       "array([1.22684498e+09, 1.27456641e+09, 1.24028986e+09, 1.31487861e+09,\n",
       "       1.31658363e+09, 1.27745410e+09, 1.34758918e+09, 1.37683417e+09,\n",
       "       1.27542245e+09, 1.29438530e+09, 1.44288000e+09, 1.35072423e+09,\n",
       "       1.40853198e+09, 1.40680916e+09, 1.37358814e+09, 1.50107890e+09,\n",
       "       1.50207297e+09, 1.58731034e+09, 1.42831858e+09, 1.42454545e+09,\n",
       "       1.44598814e+09, 1.40208955e+09, 1.45355120e+09, 1.29110860e+09,\n",
       "       1.23758621e+09, 1.24490196e+09, 1.20367150e+09, 1.10937349e+09,\n",
       "       1.02467933e+09, 1.07274882e+09, 1.04145363e+09, 8.67591241e+08,\n",
       "       9.11227621e+08, 8.62668464e+08, 8.60957746e+08, 9.96339286e+08,\n",
       "       8.42190476e+08, 9.74897959e+08, 8.20827338e+08, 8.54646840e+08,\n",
       "       7.92510121e+08, 6.63376068e+08, 6.15739910e+08])"
      ]
     },
     "execution_count": 60,
     "metadata": {},
     "output_type": "execute_result"
    }
   ],
   "source": [
    "gross_in_dollars = movies.column('Total Gross') * 1e6\n",
    "tix_sold = gross_in_dollars / movies.column('Average Ticket Price')\n",
    "tix_sold"
   ]
  },
  {
   "cell_type": "code",
   "execution_count": 61,
   "metadata": {},
   "outputs": [],
   "source": [
    "movies = movies.with_column('Tickets sold', tix_sold)"
   ]
  },
  {
   "cell_type": "code",
   "execution_count": 62,
   "metadata": {},
   "outputs": [
    {
     "data": {
      "text/html": [
       "<table border=\"1\" class=\"dataframe\">\n",
       "    <thead>\n",
       "        <tr>\n",
       "            <th>Year</th> <th>Average Ticket Price</th> <th>Total Gross</th> <th>Number of Movies</th> <th>#1 Movie</th> <th>Tickets sold</th>\n",
       "        </tr>\n",
       "    </thead>\n",
       "    <tbody>\n",
       "        <tr>\n",
       "            <td>2019</td> <td>9.16                </td> <td>11237.9    </td> <td>788             </td> <td>Avengers: Endgame                      </td> <td>1.22684e+09 </td>\n",
       "        </tr>\n",
       "        <tr>\n",
       "            <td>2018</td> <td>9.11                </td> <td>11611.3    </td> <td>878             </td> <td>Black Panther                          </td> <td>1.27457e+09 </td>\n",
       "        </tr>\n",
       "        <tr>\n",
       "            <td>2017</td> <td>8.97                </td> <td>11125.4    </td> <td>740             </td> <td>Star Wars: Episode VIII - The Last Jedi</td> <td>1.24029e+09 </td>\n",
       "        </tr>\n",
       "        <tr>\n",
       "            <td>2016</td> <td>8.65                </td> <td>11373.7    </td> <td>737             </td> <td>Rogue One: A Star Wars Story           </td> <td>1.31488e+09 </td>\n",
       "        </tr>\n",
       "    </tbody>\n",
       "</table>\n",
       "<p>... (39 rows omitted)</p>"
      ],
      "text/plain": [
       "<IPython.core.display.HTML object>"
      ]
     },
     "metadata": {},
     "output_type": "display_data"
    }
   ],
   "source": [
    "movies.show(4)"
   ]
  },
  {
   "cell_type": "code",
   "execution_count": 63,
   "metadata": {},
   "outputs": [
    {
     "data": {
      "text/html": [
       "<table border=\"1\" class=\"dataframe\">\n",
       "    <thead>\n",
       "        <tr>\n",
       "            <th>Year</th> <th>Average Ticket Price</th> <th>Total Gross</th> <th>Number of Movies</th> <th>#1 Movie</th> <th>Tickets sold</th>\n",
       "        </tr>\n",
       "    </thead>\n",
       "    <tbody>\n",
       "        <tr>\n",
       "            <td>2019</td> <td>9.16                </td> <td>11237.9    </td> <td>788             </td> <td>Avengers: Endgame                           </td> <td>1,226,844,978.17</td>\n",
       "        </tr>\n",
       "        <tr>\n",
       "            <td>2018</td> <td>9.11                </td> <td>11611.3    </td> <td>878             </td> <td>Black Panther                               </td> <td>1,274,566,410.54</td>\n",
       "        </tr>\n",
       "        <tr>\n",
       "            <td>2017</td> <td>8.97                </td> <td>11125.4    </td> <td>740             </td> <td>Star Wars: Episode VIII - The Last Jedi     </td> <td>1,240,289,855.07</td>\n",
       "        </tr>\n",
       "        <tr>\n",
       "            <td>2016</td> <td>8.65                </td> <td>11373.7    </td> <td>737             </td> <td>Rogue One: A Star Wars Story                </td> <td>1,314,878,612.72</td>\n",
       "        </tr>\n",
       "        <tr>\n",
       "            <td>2015</td> <td>8.43                </td> <td>11098.8    </td> <td>706             </td> <td>Star Wars: Episode VII - The Force Awakens  </td> <td>1,316,583,629.89</td>\n",
       "        </tr>\n",
       "        <tr>\n",
       "            <td>2014</td> <td>8.17                </td> <td>10436.8    </td> <td>708             </td> <td>American Sniper                             </td> <td>1,277,454,100.37</td>\n",
       "        </tr>\n",
       "        <tr>\n",
       "            <td>2013</td> <td>8.13                </td> <td>10955.9    </td> <td>689             </td> <td>The Hunger Games: Catching Fire             </td> <td>1,347,589,175.89</td>\n",
       "        </tr>\n",
       "        <tr>\n",
       "            <td>2012</td> <td>7.96                </td> <td>10959.6    </td> <td>669             </td> <td>The Avengers                                </td> <td>1,376,834,170.85</td>\n",
       "        </tr>\n",
       "        <tr>\n",
       "            <td>2011</td> <td>7.93                </td> <td>10114.1    </td> <td>601             </td> <td>Harry Potter and the Deathly Hallows: Part 2</td> <td>1,275,422,446.41</td>\n",
       "        </tr>\n",
       "        <tr>\n",
       "            <td>2010</td> <td>7.89                </td> <td>10212.7    </td> <td>538             </td> <td>Toy Story 3                                 </td> <td>1,294,385,297.85</td>\n",
       "        </tr>\n",
       "    </tbody>\n",
       "</table>\n",
       "<p>... (33 rows omitted)</p>"
      ],
      "text/plain": [
       "Year | Average Ticket Price | Total Gross | Number of Movies | #1 Movie                                     | Tickets sold\n",
       "2019 | 9.16                 | 11237.9     | 788              | Avengers: Endgame                            | 1,226,844,978.17\n",
       "2018 | 9.11                 | 11611.3     | 878              | Black Panther                                | 1,274,566,410.54\n",
       "2017 | 8.97                 | 11125.4     | 740              | Star Wars: Episode VIII - The Last Jedi      | 1,240,289,855.07\n",
       "2016 | 8.65                 | 11373.7     | 737              | Rogue One: A Star Wars Story                 | 1,314,878,612.72\n",
       "2015 | 8.43                 | 11098.8     | 706              | Star Wars: Episode VII - The Force Awakens   | 1,316,583,629.89\n",
       "2014 | 8.17                 | 10436.8     | 708              | American Sniper                              | 1,277,454,100.37\n",
       "2013 | 8.13                 | 10955.9     | 689              | The Hunger Games: Catching Fire              | 1,347,589,175.89\n",
       "2012 | 7.96                 | 10959.6     | 669              | The Avengers                                 | 1,376,834,170.85\n",
       "2011 | 7.93                 | 10114.1     | 601              | Harry Potter and the Deathly Hallows: Part 2 | 1,275,422,446.41\n",
       "2010 | 7.89                 | 10212.7     | 538              | Toy Story 3                                  | 1,294,385,297.85\n",
       "... (33 rows omitted)"
      ]
     },
     "execution_count": 63,
     "metadata": {},
     "output_type": "execute_result"
    }
   ],
   "source": [
    "movies.set_format('Tickets sold', NumberFormatter)"
   ]
  },
  {
   "cell_type": "code",
   "execution_count": 64,
   "metadata": {},
   "outputs": [
    {
     "data": {
      "image/png": "[encoded data removed]",
      "text/plain": [
       "<Figure size 432x432 with 1 Axes>"
      ]
     },
     "metadata": {},
     "output_type": "display_data"
    }
   ],
   "source": [
    "movies.plot('Year', 'Tickets sold')"
   ]
  },
  {
   "cell_type": "code",
   "execution_count": 65,
   "metadata": {},
   "outputs": [
    {
     "data": {
      "text/html": [
       "<table border=\"1\" class=\"dataframe\">\n",
       "    <thead>\n",
       "        <tr>\n",
       "            <th>Year</th> <th>Average Ticket Price</th> <th>Total Gross</th> <th>Number of Movies</th> <th>#1 Movie</th> <th>Tickets sold</th>\n",
       "        </tr>\n",
       "    </thead>\n",
       "    <tbody>\n",
       "        <tr>\n",
       "            <td>2004</td> <td>6.21                </td> <td>9321.7     </td> <td>551             </td> <td>Shrek 2                                      </td> <td>1,501,078,904.99</td>\n",
       "        </tr>\n",
       "        <tr>\n",
       "            <td>2003</td> <td>6.03                </td> <td>9057.5     </td> <td>506             </td> <td>The Lord of the Rings: The Return of the King</td> <td>1,502,072,968.49</td>\n",
       "        </tr>\n",
       "        <tr>\n",
       "            <td>2002</td> <td>5.8                 </td> <td>9206.4     </td> <td>480             </td> <td>Spider-Man                                   </td> <td>1,587,310,344.83</td>\n",
       "        </tr>\n",
       "        <tr>\n",
       "            <td>2001</td> <td>5.65                </td> <td>8070       </td> <td>356             </td> <td>Harry Potter and the Sorcerer's Stone        </td> <td>1,428,318,584.07</td>\n",
       "        </tr>\n",
       "        <tr>\n",
       "            <td>2000</td> <td>5.39                </td> <td>7678.3     </td> <td>371             </td> <td>How the Grinch Stole Christmas               </td> <td>1,424,545,454.55</td>\n",
       "        </tr>\n",
       "    </tbody>\n",
       "</table>"
      ],
      "text/plain": [
       "Year | Average Ticket Price | Total Gross | Number of Movies | #1 Movie                                      | Tickets sold\n",
       "2004 | 6.21                 | 9321.7      | 551              | Shrek 2                                       | 1,501,078,904.99\n",
       "2003 | 6.03                 | 9057.5      | 506              | The Lord of the Rings: The Return of the King | 1,502,072,968.49\n",
       "2002 | 5.8                  | 9206.4      | 480              | Spider-Man                                    | 1,587,310,344.83\n",
       "2001 | 5.65                 | 8070        | 356              | Harry Potter and the Sorcerer's Stone         | 1,428,318,584.07\n",
       "2000 | 5.39                 | 7678.3      | 371              | How the Grinch Stole Christmas                | 1,424,545,454.55"
      ]
     },
     "execution_count": 65,
     "metadata": {},
     "output_type": "execute_result"
    }
   ],
   "source": [
    "movies.where('Year', are.between(2000, 2005))"
   ]
  },
  {
   "cell_type": "code",
   "execution_count": 66,
   "metadata": {},
   "outputs": [
    {
     "data": {
      "text/html": [
       "<table border=\"1\" class=\"dataframe\">\n",
       "    <thead>\n",
       "        <tr>\n",
       "            <th>Year</th> <th>Average Ticket Price</th> <th>Total Gross</th> <th>Number of Movies</th> <th>#1 Movie</th> <th>Tickets sold</th>\n",
       "        </tr>\n",
       "    </thead>\n",
       "    <tbody>\n",
       "        <tr>\n",
       "            <td>2002</td> <td>5.8                 </td> <td>9206.4     </td> <td>480             </td> <td>Spider-Man</td> <td>1,587,310,344.83</td>\n",
       "        </tr>\n",
       "    </tbody>\n",
       "</table>"
      ],
      "text/plain": [
       "Year | Average Ticket Price | Total Gross | Number of Movies | #1 Movie   | Tickets sold\n",
       "2002 | 5.8                  | 9206.4      | 480              | Spider-Man | 1,587,310,344.83"
      ]
     },
     "execution_count": 66,
     "metadata": {},
     "output_type": "execute_result"
    }
   ],
   "source": [
    "movies.where('Year', 2002)"
   ]
  },
  {
   "cell_type": "code",
   "execution_count": 67,
   "metadata": {},
   "outputs": [
    {
     "data": {
      "text/html": [
       "<table border=\"1\" class=\"dataframe\">\n",
       "    <thead>\n",
       "        <tr>\n",
       "            <th>Year</th> <th>Average Ticket Price</th> <th>Total Gross</th> <th>Number of Movies</th> <th>#1 Movie</th> <th>Tickets sold</th>\n",
       "        </tr>\n",
       "    </thead>\n",
       "    <tbody>\n",
       "        <tr>\n",
       "            <td>2002</td> <td>5.8                 </td> <td>9206.4     </td> <td>480             </td> <td>Spider-Man</td> <td>1,587,310,344.83</td>\n",
       "        </tr>\n",
       "    </tbody>\n",
       "</table>"
      ],
      "text/plain": [
       "Year | Average Ticket Price | Total Gross | Number of Movies | #1 Movie   | Tickets sold\n",
       "2002 | 5.8                  | 9206.4      | 480              | Spider-Man | 1,587,310,344.83"
      ]
     },
     "execution_count": 67,
     "metadata": {},
     "output_type": "execute_result"
    }
   ],
   "source": [
    "movies.where('Year', are.equal_to(2002))  # same as above cell; more typing"
   ]
  },
  {
   "cell_type": "code",
   "execution_count": 68,
   "metadata": {},
   "outputs": [
    {
     "data": {
      "text/html": [
       "<table border=\"1\" class=\"dataframe\">\n",
       "    <thead>\n",
       "        <tr>\n",
       "            <th>Year</th> <th>Average Ticket Price</th> <th>Total Gross</th> <th>Number of Movies</th> <th>#1 Movie</th> <th>Tickets sold</th>\n",
       "        </tr>\n",
       "    </thead>\n",
       "    <tbody>\n",
       "        <tr>\n",
       "            <td>2011</td> <td>7.93                </td> <td>10114.1    </td> <td>601             </td> <td>Harry Potter and the Deathly Hallows: Part 2</td> <td>1,275,422,446.41</td>\n",
       "        </tr>\n",
       "        <tr>\n",
       "            <td>2001</td> <td>5.65                </td> <td>8070       </td> <td>356             </td> <td>Harry Potter and the Sorcerer's Stone       </td> <td>1,428,318,584.07</td>\n",
       "        </tr>\n",
       "    </tbody>\n",
       "</table>"
      ],
      "text/plain": [
       "Year | Average Ticket Price | Total Gross | Number of Movies | #1 Movie                                     | Tickets sold\n",
       "2011 | 7.93                 | 10114.1     | 601              | Harry Potter and the Deathly Hallows: Part 2 | 1,275,422,446.41\n",
       "2001 | 5.65                 | 8070        | 356              | Harry Potter and the Sorcerer's Stone        | 1,428,318,584.07"
      ]
     },
     "execution_count": 68,
     "metadata": {},
     "output_type": "execute_result"
    }
   ],
   "source": [
    "movies.where('#1 Movie', are.containing('Harry Potter'))"
   ]
  },
  {
   "cell_type": "code",
   "execution_count": 69,
   "metadata": {},
   "outputs": [
    {
     "data": {
      "text/html": [
       "<table border=\"1\" class=\"dataframe\">\n",
       "    <thead>\n",
       "        <tr>\n",
       "            <th>Year</th> <th>Average Ticket Price</th> <th>Total Gross</th> <th>Number of Movies</th> <th>#1 Movie</th> <th>Tickets sold</th>\n",
       "        </tr>\n",
       "    </thead>\n",
       "    <tbody>\n",
       "        <tr>\n",
       "            <td>2017</td> <td>8.97                </td> <td>11125.4    </td> <td>740             </td> <td>Star Wars: Episode VIII - The Last Jedi   </td> <td>1,240,289,855.07</td>\n",
       "        </tr>\n",
       "        <tr>\n",
       "            <td>2016</td> <td>8.65                </td> <td>11373.7    </td> <td>737             </td> <td>Rogue One: A Star Wars Story              </td> <td>1,314,878,612.72</td>\n",
       "        </tr>\n",
       "        <tr>\n",
       "            <td>2015</td> <td>8.43                </td> <td>11098.8    </td> <td>706             </td> <td>Star Wars: Episode VII - The Force Awakens</td> <td>1,316,583,629.89</td>\n",
       "        </tr>\n",
       "    </tbody>\n",
       "</table>"
      ],
      "text/plain": [
       "Year | Average Ticket Price | Total Gross | Number of Movies | #1 Movie                                   | Tickets sold\n",
       "2017 | 8.97                 | 11125.4     | 740              | Star Wars: Episode VIII - The Last Jedi    | 1,240,289,855.07\n",
       "2016 | 8.65                 | 11373.7     | 737              | Rogue One: A Star Wars Story               | 1,314,878,612.72\n",
       "2015 | 8.43                 | 11098.8     | 706              | Star Wars: Episode VII - The Force Awakens | 1,316,583,629.89"
      ]
     },
     "execution_count": 69,
     "metadata": {},
     "output_type": "execute_result"
    }
   ],
   "source": [
    "movies.take(np.arange(2, 5))"
   ]
  }
 ],
 "metadata": {
  "kernelspec": {
   "display_name": "Python 3 (ipykernel)",
   "language": "python",
   "name": "python3"
  },
  "language_info": {
   "codemirror_mode": {
    "name": "ipython",
    "version": 3
   },
   "file_extension": ".py",
   "mimetype": "text/x-python",
   "name": "python",
   "nbconvert_exporter": "python",
   "pygments_lexer": "ipython3",
   "version": "3.9.12"
  }
 },
 "nbformat": 4,
 "nbformat_minor": 4
}
