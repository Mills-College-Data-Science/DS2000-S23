{
 "cells": [
  {
   "cell_type": "markdown",
   "metadata": {
    "id": "2tVtoiLcaXOx"
   },
   "source": [
    "## DS2000 & DS2001 Programming with Data & Practicum\n",
    "# Homework 2: Arrays and Tables \n",
    "\n",
    "### 63 Points\n",
    "\n",
    "## Due Saturday, January 28 by 10:00PM"
   ]
  },
  {
   "cell_type": "markdown",
   "metadata": {
    "id": "F5SOnIKYaXO3"
   },
   "source": [
    "**Reading**: \n",
    "* [Chapter 4: Data Types](https://inferentialthinking.com/chapters/04/Data_Types.html ) \n",
    "* [Chapter 5: Sequences](https://www.inferentialthinking.com/chapters/05/Sequences.html)\n",
    "* [Chapter 6: Tables](https://www.inferentialthinking.com/chapters/06/Tables.html)"
   ]
  },
  {
   "cell_type": "markdown",
   "metadata": {
    "id": "u640OHluaXO4"
   },
   "source": [
    "Please complete this notebook by filling in the cells provided. Before you begin, execute the following cell to load the provided tests. Each time you start your server, you will need to execute this cell again to load the tests.\n",
    "\n",
    "Start early so that you can come to office hours if you're stuck. Check Canvas for the [office hours schedule](https://northeastern.instructure.com/courses/141472/assignments/syllabus).\n",
    " \n",
    "Throughout this homework and all future ones, please be sure to not re-assign variables throughout the notebook! For example, if you use `max_temperature` in your answer to one question, do not reassign it later on. "
   ]
  },
  {
   "cell_type": "code",
   "execution_count": null,
   "metadata": {
    "id": "-OMAoOiGaXO5"
   },
   "outputs": [],
   "source": [
    "# Don't change this cell; just run it.\n",
    "import numpy as np\n",
    "from datascience import *\n",
    "import otter\n",
    "grader = otter.Notebook(\"hw02.ipynb\")"
   ]
  },
  {
   "cell_type": "markdown",
   "metadata": {
    "id": "XG-8Xhi-aXO7"
   },
   "source": [
    "## 1. Creating Arrays\n"
   ]
  },
  {
   "cell_type": "markdown",
   "metadata": {
    "id": "eRV3eTxWaXO7"
   },
   "source": [
    "An array acts like a container holding a sequence of data items, and these items must have the same data type. We can use the `make_array` function from the datascience package to create an array.  Below are some examples."
   ]
  },
  {
   "cell_type": "code",
   "execution_count": null,
   "metadata": {
    "id": "NO7f8DdQaXO7"
   },
   "outputs": [],
   "source": [
    "fruits = make_array('apple', 'orange','watermelon')\n",
    "fruits"
   ]
  },
  {
   "cell_type": "markdown",
   "metadata": {},
   "source": [
    "Here do not be concerned with dtype='<U10' (this translates to \"Unicode string of maximum length 10\")."
   ]
  },
  {
   "cell_type": "code",
   "execution_count": null,
   "metadata": {
    "id": "OqILhQfuaXO8"
   },
   "outputs": [],
   "source": [
    "numbers= make_array(2,5,6,8,10)\n",
    "numbers"
   ]
  },
  {
   "cell_type": "markdown",
   "metadata": {
    "id": "13Ym9GOlaXO8"
   },
   "source": [
    "Many useful functions on numbers are included in the `math` module.  Below we illustrate some function calls using the math module."
   ]
  },
  {
   "cell_type": "code",
   "execution_count": null,
   "metadata": {
    "id": "mEIV9WM7aXO8"
   },
   "outputs": [],
   "source": [
    "# the list of functions in the math module can be found at\n",
    "# https://docs.python.org/3/library/math.html\n",
    "# some examples below\n",
    "\n",
    "import math \n",
    "\n",
    "print(math.sin(2.5))   # math.sin() returns the sine of a number\n",
    "print(math.sqrt(64))   # math.sqrt() returns the square root of a number\n",
    "print(math.ceil(1.4))  # math.ceil() rounds up to the nearest integer\n",
    "print(math.floor(1.4)) # math.floor() rounds down to the nearest integer\n",
    "print(max(numbers))    # max returns the largest number among those in the numbers array from above"
   ]
  },
  {
   "cell_type": "markdown",
   "metadata": {
    "deletable": false,
    "id": "-PxH3nVVaXO9"
   },
   "source": [
    "**Question 1.1. (2 pts)** Make an array called `weird_numbers` containing the following numbers (in the given order):\n",
    "\n",
    "1. -2\n",
    "2. the sine of 1.2\n",
    "3. the square root of 3\n",
    "4. 5 to the power of 1.2\n",
    "\n",
    "\n",
    "*Note:* In DS2000, we use numpy arrays which are different from Python lists. If you don't know what Python lists are, that is okay. For those who worked Python before, please make an **array** not a Python list.\n"
   ]
  },
  {
   "cell_type": "code",
   "execution_count": null,
   "metadata": {
    "id": "MQTgJTq8aXO9"
   },
   "outputs": [],
   "source": [
    "weird_numbers = ...\n",
    "weird_numbers "
   ]
  },
  {
   "cell_type": "code",
   "execution_count": null,
   "metadata": {
    "deletable": false,
    "editable": false,
    "id": "LEoKdl5baXO9",
    "scrolled": true
   },
   "outputs": [],
   "source": [
    "# Testing Question 1.1\n",
    "grader.check(\"q11\") "
   ]
  },
  {
   "cell_type": "markdown",
   "metadata": {
    "deletable": false,
    "editable": false,
    "id": "KilX6uH7aXO-"
   },
   "source": [
    "**Question 1.2. (2 pts)** Make an array called `book_title_words` containing the following three strings: \"Eats\", \"Shoots\", and \"and Leaves\"."
   ]
  },
  {
   "cell_type": "code",
   "execution_count": null,
   "metadata": {
    "id": "QX8i7e00aXO-"
   },
   "outputs": [],
   "source": [
    "book_title_words = ...\n",
    "book_title_words"
   ]
  },
  {
   "cell_type": "code",
   "execution_count": null,
   "metadata": {
    "deletable": false,
    "editable": false,
    "id": "PoMnSxQXaXO_"
   },
   "outputs": [],
   "source": [
    "# Testing Question 1.2\n",
    "grader.check(\"q12\")"
   ]
  },
  {
   "cell_type": "markdown",
   "metadata": {
    "id": "7QLX3o1laXO_"
   },
   "source": [
    "Strings have a method called `join`.  `join` takes one argument, an array of strings.  It returns a single string.  Specifically, the value of `a_string.join(an_array)` is a single string that's the [concatenation](https://en.wikipedia.org/wiki/Concatenation) (\"putting together\") of all the strings in `an_array`, **except** `a_string` is inserted in between each string.  Let's see an example to clarify."
   ]
  },
  {
   "cell_type": "code",
   "execution_count": null,
   "metadata": {
    "id": "1MLrU-hTaXO_"
   },
   "outputs": [],
   "source": [
    "month_array = make_array(\"Jan\", \"Feb\", \"Dec\")\n",
    "month_string = \"#\".join(month_array)\n",
    "print(month_string) \n",
    "\n",
    "birthday_array=make_array(\"12\",\"4\",\"1990\")\n",
    "birthday_string = \"/\".join(birthday_array)\n",
    "print(birthday_string)"
   ]
  },
  {
   "cell_type": "markdown",
   "metadata": {
    "deletable": false,
    "editable": false,
    "id": "8ec8NVdTaXPA"
   },
   "source": [
    "**Question 1.3. (3 pts)** Use the array `book_title_words` and the method `join` to make two strings:\n",
    "\n",
    "1. \"Eats, Shoots, and Leaves\" (call this one `with_commas`)\n",
    "2. \"Eats Shoots and Leaves\" (call this one `without_commas`)"
   ]
  },
  {
   "cell_type": "code",
   "execution_count": null,
   "metadata": {
    "id": "gTBYs3cSaXPA"
   },
   "outputs": [],
   "source": [
    "with_commas = ...\n",
    "without_commas = ...\n",
    "\n",
    "# These lines are provided just to print out your answers.\n",
    "print('with_commas:', with_commas)\n",
    "print('without_commas:', without_commas)"
   ]
  },
  {
   "cell_type": "code",
   "execution_count": null,
   "metadata": {
    "deletable": false,
    "id": "YdILydPTaXPA"
   },
   "outputs": [],
   "source": [
    "# Testing Question 1.3\n",
    "grader.check(\"q13\")"
   ]
  },
  {
   "cell_type": "markdown",
   "metadata": {
    "id": "rXstt2rPaXPB"
   },
   "source": [
    "## 2. Indexing Arrays\n"
   ]
  },
  {
   "cell_type": "markdown",
   "metadata": {
    "id": "IfMwojv0aXPB"
   },
   "source": [
    "These exercises give you practice accessing individual elements of arrays.  In Python (and in many programming languages), elements in an array are accessed by *index*.  One important aspect about indexing in computer science is that the **first index is 0** -- so the first element is the element at index 0, the second element is the element at index 1, etc.\n",
    "\n",
    "*Note:* Please don't use bracket notation when indexing (i.e. `arr[0]`), as this can yield different data type outputs than what we will be expecting. This can cause you to fail an autograder test."
   ]
  },
  {
   "cell_type": "code",
   "execution_count": null,
   "metadata": {
    "id": "ejahU9rAaXPB"
   },
   "outputs": [],
   "source": [
    "# An example -- creating an array and indexing elements\n",
    "string_array = make_array('h','ell','o')\n",
    "\n",
    "print(string_array.item(0) )  # print the first element/item which is at index 0\n",
    "print(string_array.item(1))   # index 1, the second element\n",
    "# function len returns the number of elements in an array\n",
    "string_array.size"
   ]
  },
  {
   "cell_type": "markdown",
   "metadata": {
    "deletable": false,
    "editable": false,
    "id": "vNN05czzaXPC"
   },
   "source": [
    "**Question 2.1. (2 pts)** The cell below creates an array of some numbers.  Set `third_element` to the third element of `some_numbers`."
   ]
  },
  {
   "cell_type": "code",
   "execution_count": null,
   "metadata": {
    "id": "222L6WMcaXPC"
   },
   "outputs": [],
   "source": [
    "some_numbers = make_array(-1, -3, -6, -10, -15)\n",
    "\n",
    "third_element = ...\n",
    "third_element"
   ]
  },
  {
   "cell_type": "code",
   "execution_count": null,
   "metadata": {
    "deletable": false,
    "editable": false,
    "id": "BKaLDIJEaXPC"
   },
   "outputs": [],
   "source": [
    "grader.check(\"q21\")"
   ]
  },
  {
   "cell_type": "markdown",
   "metadata": {
    "deletable": false,
    "editable": false,
    "id": "FWR0CnoQaXPD"
   },
   "source": [
    "**Question 2.2. (4 pts)** The next cell creates a table that displays some information about the elements of `some_numbers` and their order.  Run the cell to see the partially-completed table, then fill in the missing information (the cells that say \"Ellipsis\") by assigning `blank_a`, `blank_b`, `blank_c`, and `blank_d` to the correct elements in the table."
   ]
  },
  {
   "cell_type": "code",
   "execution_count": null,
   "metadata": {
    "for_assignment_type": "student",
    "id": "jXQ67Vb7aXPD"
   },
   "outputs": [],
   "source": [
    "blank_a = ...\n",
    "blank_b = ...\n",
    "blank_c = ...\n",
    "blank_d = ...\n",
    "elements_of_some_numbers = Table().with_columns(\n",
    "    \"English name for position\", make_array(\"first\", \"second\", blank_a, blank_b, \"fifth\"),\n",
    "    \"Index\",                     make_array(blank_c, 1, 2, blank_d, 4),\n",
    "    \"Element\",                   some_numbers)\n",
    "elements_of_some_numbers"
   ]
  },
  {
   "cell_type": "code",
   "execution_count": null,
   "metadata": {
    "deletable": false,
    "id": "mRrwguzEaXPD"
   },
   "outputs": [],
   "source": [
    "# Testing Question 2.2\n",
    "grader.check(\"q22\")"
   ]
  },
  {
   "cell_type": "markdown",
   "metadata": {
    "deletable": false,
    "id": "aF5CcYPraXPD"
   },
   "source": [
    "**Question 2.3. (1 pt)** You'll sometimes want to find the *last* element of an array.  Suppose an array has 142 elements.  What is the index of its last element?"
   ]
  },
  {
   "cell_type": "code",
   "execution_count": null,
   "metadata": {
    "id": "LL2yDN0MaXPD"
   },
   "outputs": [],
   "source": [
    "index_of_last_element = ..."
   ]
  },
  {
   "cell_type": "code",
   "execution_count": null,
   "metadata": {
    "deletable": false,
    "id": "eZNJbsrGaXPE"
   },
   "outputs": [],
   "source": [
    "# Testing Question 2.3\n",
    "grader.check(\"q23\")"
   ]
  },
  {
   "cell_type": "markdown",
   "metadata": {},
   "source": [
    "More often, you don't know the number of elements in an array, its *size or length*.  (For example, it might be a large dataset you found on the Internet.)  The method `size` and returns the size of that array (an integer). For example, some_numbers.size would have returned 5.  Try running it below."
   ]
  },
  {
   "cell_type": "code",
   "execution_count": null,
   "metadata": {},
   "outputs": [],
   "source": [
    "# note that size is not followed by parentheses\n",
    "some_numbers.size"
   ]
  },
  {
   "cell_type": "markdown",
   "metadata": {},
   "source": [
    " Other array methods include `sum` and `mean` (which computes the average).  Try running the following cells."
   ]
  },
  {
   "cell_type": "code",
   "execution_count": null,
   "metadata": {},
   "outputs": [],
   "source": [
    "# note sum is followed by parentheses\n",
    "some_numbers.sum()"
   ]
  },
  {
   "cell_type": "code",
   "execution_count": null,
   "metadata": {},
   "outputs": [],
   "source": [
    "# note mean is also followed by parentheses\n",
    "some_numbers.mean()"
   ]
  },
  {
   "cell_type": "markdown",
   "metadata": {},
   "source": [
    "Let's load a csv file `president_births.csv` which contains a table of all US Presidents who have passed away (except George H. W. Bush who passed away November 30, 2018) sorted by \"Birth Year\".  Run the next cell."
   ]
  },
  {
   "cell_type": "code",
   "execution_count": null,
   "metadata": {},
   "outputs": [],
   "source": [
    "presidents = Table.read_table(\"president_births.csv\")\n",
    "presidents"
   ]
  },
  {
   "cell_type": "markdown",
   "metadata": {
    "deletable": false,
    "editable": false,
    "id": "T2BKZAsZaXPE"
   },
   "source": [
    "**Question 2.4. (2 pts)** What is the most recent birth year of any deceased president in the table?  Assign that year to `most_recent_birth_year`.\n",
    "\n",
    "*Hint: You would return the last element of the `Birth Year` column of the `president_births_years` table. The last element in that array is the most recent birth year of any deceased president in the table.*"
   ]
  },
  {
   "cell_type": "code",
   "execution_count": null,
   "metadata": {
    "id": "_0aSBlY-aXPE"
   },
   "outputs": [],
   "source": [
    "most_recent_birth_year = ...\n",
    "most_recent_birth_year"
   ]
  },
  {
   "cell_type": "code",
   "execution_count": null,
   "metadata": {
    "deletable": false,
    "id": "FOsOblPzaXPE"
   },
   "outputs": [],
   "source": [
    "# Testing Question 2.4\n",
    "grader.check(\"q24\")"
   ]
  },
  {
   "cell_type": "markdown",
   "metadata": {
    "deletable": false,
    "editable": false,
    "id": "S1aKR6CZaXPF"
   },
   "source": [
    "**Question 2.5. (3 pts)** Assign `sum_of_birth_years` to the sum of the first, tenth, and last birth year in `presidents` table."
   ]
  },
  {
   "cell_type": "code",
   "execution_count": null,
   "metadata": {
    "id": "CoQEIao-aXPF"
   },
   "outputs": [],
   "source": [
    "sum_of_birth_years = ..."
   ]
  },
  {
   "cell_type": "code",
   "execution_count": null,
   "metadata": {
    "deletable": false,
    "id": "zfERFOrnaXPF"
   },
   "outputs": [],
   "source": [
    "# Testing Question 2.5\n",
    "grader.check(\"q25\")"
   ]
  },
  {
   "cell_type": "markdown",
   "metadata": {
    "deletable": false,
    "editable": false,
    "id": "T2BKZAsZaXPE"
   },
   "source": [
    " **Question 2.6. (2 pts)** What is the average life span/years of presidents in the table?  Assign that average to `average_life_span`."
   ]
  },
  {
   "cell_type": "code",
   "execution_count": null,
   "metadata": {},
   "outputs": [],
   "source": [
    "average_life_span = ...\n",
    "average_life_span"
   ]
  },
  {
   "cell_type": "code",
   "execution_count": null,
   "metadata": {},
   "outputs": [],
   "source": [
    "# Testing Question 2.6\n",
    "grader.check(\"q26\")"
   ]
  },
  {
   "cell_type": "markdown",
   "metadata": {
    "id": "vR5CGKj1aXPF"
   },
   "source": [
    "## 3. Basic Array Arithmetic\n"
   ]
  },
  {
   "cell_type": "markdown",
   "metadata": {
    "deletable": false,
    "editable": false,
    "id": "sTMLKdquaXPF"
   },
   "source": [
    "**Question 3.1. (2 pts)** Multiply the numbers 42, 4224, 42422424, and -250 by 157. Assign each variable below such that `first_product` is assigned to the result of $42 * 157$, `second_product` is assigned to the result of $4224 * 157$, and so on. \n",
    "\n",
    "For this question, **don't** use arrays."
   ]
  },
  {
   "cell_type": "code",
   "execution_count": null,
   "metadata": {
    "id": "tcsZL7ZEaXPG"
   },
   "outputs": [],
   "source": [
    "first_product = ...\n",
    "second_product = ...\n",
    "third_product = ...\n",
    "fourth_product = ...\n",
    "print(first_product, second_product, third_product, fourth_product)"
   ]
  },
  {
   "cell_type": "code",
   "execution_count": null,
   "metadata": {
    "deletable": false,
    "id": "FAZVMQSQaXPG"
   },
   "outputs": [],
   "source": [
    "# Testing Question 3.1\n",
    "grader.check(\"q31\")"
   ]
  },
  {
   "cell_type": "markdown",
   "metadata": {
    "deletable": false,
    "editable": false,
    "id": "iv7gbBpcaXPH"
   },
   "source": [
    "**Question 3.2. (3 pts)** Now, do the same calculation, but using an array called `numbers` and only a single multiplication (`*`) operator.  Store the 4 results in an array named `products`."
   ]
  },
  {
   "cell_type": "code",
   "execution_count": null,
   "metadata": {
    "id": "eFMEzpRoaXPH"
   },
   "outputs": [],
   "source": [
    "numbers = ...\n",
    "products = ...\n",
    "products"
   ]
  },
  {
   "cell_type": "code",
   "execution_count": null,
   "metadata": {
    "deletable": false,
    "id": "6OU5NHJTaXPH"
   },
   "outputs": [],
   "source": [
    "# Testing Question 3.2\n",
    "grader.check(\"q32\")"
   ]
  },
  {
   "cell_type": "markdown",
   "metadata": {
    "deletable": false,
    "editable": false,
    "id": "mRGmJc13aXPH"
   },
   "source": [
    "**Question 3.3. (2 pts)** Oops, we made a typo!  Instead of 157, we wanted to multiply each number by 1577.  Compute the correct products in the cell below using array arithmetic.  Notice that your job is really easy if you previously defined an array containing the 4 numbers."
   ]
  },
  {
   "cell_type": "code",
   "execution_count": null,
   "metadata": {
    "id": "d2433wRmaXPI"
   },
   "outputs": [],
   "source": [
    "correct_products = ...\n",
    "correct_products"
   ]
  },
  {
   "cell_type": "code",
   "execution_count": null,
   "metadata": {
    "deletable": false,
    "id": "jfOR99mnaXPI"
   },
   "outputs": [],
   "source": [
    "# Testing Question 3.3\n",
    "grader.check(\"q33\")"
   ]
  },
  {
   "cell_type": "markdown",
   "metadata": {
    "deletable": false,
    "id": "NVFRTLdWaXPI"
   },
   "source": [
    "**Question 3.4. (2 pts)** We've loaded an array of temperatures in the next cell.  Each number is the highest temperature observed on a day at a climate observation station, mostly from the US.  Since they're from the US government agency [NOAA](noaa.gov), all the temperatures are in Fahrenheit.  Convert them all to Celsius by first subtracting 32 from them, then multiplying the results by $\\frac{5}{9}$. Make sure to **ROUND** the final result after converting to Celsius to the nearest integer using the `np.round` function.  An example of np.round call: np.round(weird_numbers).\n"
   ]
  },
  {
   "cell_type": "code",
   "execution_count": null,
   "metadata": {
    "id": "NPysMo4HaXPI"
   },
   "outputs": [],
   "source": [
    "max_temperatures = Table.read_table(\"temperatures.csv\").column(\"Daily Max Temperature\")\n",
    "\n",
    "celsius_max_temperatures_rounded = ...\n",
    "celsius_max_temperatures_rounded"
   ]
  },
  {
   "cell_type": "code",
   "execution_count": null,
   "metadata": {
    "deletable": false,
    "id": "FkaD8sCJaXPI"
   },
   "outputs": [],
   "source": [
    "# Testing Question 3.4\n",
    "grader.check(\"q34\")"
   ]
  },
  {
   "cell_type": "markdown",
   "metadata": {
    "deletable": false,
    "editable": false,
    "id": "w5XqXQbaaXPI"
   },
   "source": [
    "**Question 3.5. (2 pts)** The cell below loads all the *lowest* temperatures from each day (in Fahrenheit).  Compute the size of the daily temperature range for each day.  That is, compute the difference between each daily maximum temperature and the corresponding daily minimum temperature.  **Pay attention to the units, give your answer in Celsius!** Make sure **NOT** to round your answer for this question!"
   ]
  },
  {
   "cell_type": "code",
   "execution_count": null,
   "metadata": {
    "id": "ZCXXGyQlaXPJ"
   },
   "outputs": [],
   "source": [
    "min_temperatures = Table.read_table(\"temperatures.csv\").column(\"Daily Min Temperature\")\n",
    "\n",
    "celsius_temperature_ranges = ...\n",
    "celsius_temperature_ranges"
   ]
  },
  {
   "cell_type": "code",
   "execution_count": null,
   "metadata": {
    "deletable": false,
    "id": "g6P4khW1aXPJ",
    "scrolled": true
   },
   "outputs": [],
   "source": [
    "# Testing Question 3.5\n",
    "grader.check(\"q35\")"
   ]
  },
  {
   "cell_type": "markdown",
   "metadata": {
    "id": "qnYVpyX2aXPJ"
   },
   "source": [
    "## 4. World Population\n"
   ]
  },
  {
   "cell_type": "markdown",
   "metadata": {
    "id": "QwzIkFa2aXPJ"
   },
   "source": [
    "The cell below loads a table of estimates of the world population for different years, starting in 1950. The estimates come from the [US Census Bureau website](https://www.census.gov/en.html)."
   ]
  },
  {
   "cell_type": "code",
   "execution_count": null,
   "metadata": {
    "id": "zdLweSaXaXPJ"
   },
   "outputs": [],
   "source": [
    "world = Table.read_table(\"world_population.csv\").select('Year', 'Population')\n",
    "world.show(4)"
   ]
  },
  {
   "cell_type": "markdown",
   "metadata": {
    "id": "tmMskoOKaXPJ"
   },
   "source": [
    "The name `population` is assigned to an **array** of population estimates which is the `Population` column of the world table."
   ]
  },
  {
   "cell_type": "code",
   "execution_count": null,
   "metadata": {
    "id": "k9H_NmYZaXPK"
   },
   "outputs": [],
   "source": [
    "population = world.column(1)\n",
    "population"
   ]
  },
  {
   "cell_type": "markdown",
   "metadata": {
    "id": "1-IQuzigaXPK"
   },
   "source": [
    "In this question, you will apply some built-in `numpy` functions to this array. `numpy` is a module that is often used in Data Science!   [Section 5.1.1 ](https://inferentialthinking.com/chapters/05/1/Arrays.html) covers some basic functions of numpy."
   ]
  },
  {
   "cell_type": "markdown",
   "metadata": {
    "id": "PnkNOu8TaXPK"
   },
   "source": [
    "<img src=\"array_diff.png\" style=\"width: 600px;\"/>\n",
    "\n",
    "The difference function `np.diff` subtracts each element in an array from the element after it within the array. As a result, the length of the array `np.diff` returns will always be one less than the length of the input array.  We show an example in the next cell."
   ]
  },
  {
   "cell_type": "code",
   "execution_count": null,
   "metadata": {
    "id": "JFAKeWFPaXPK"
   },
   "outputs": [],
   "source": [
    "# the np.diff function computes the difference between each adjacent pair of elements in an array.\n",
    "ages = make_array(24,34,21,50)  \n",
    "np.diff(ages)   # 34-24 =10 , 21-34=-13, 50-21=29"
   ]
  },
  {
   "cell_type": "markdown",
   "metadata": {
    "id": "trYyq1VTaXPK"
   },
   "source": [
    "<img src=\"array_cumsum.png\" style=\"width: 700px;\"/>\n",
    "\n",
    "The cumulative sum function `np.cumsum` outputs an array of partial sums. For example, the third element in the output array corresponds to the sum of the first, second, and third elements."
   ]
  },
  {
   "cell_type": "code",
   "execution_count": null,
   "metadata": {
    "id": "wNKWPYGzaXPK"
   },
   "outputs": [],
   "source": [
    "# np.cumsum means the cumulative sum: for each element, add all elements so far \n",
    "myNumbers = make_array(10,20,30,40,45,55)\n",
    "np.cumsum(myNumbers)     # [10 , 10+20, 10+20+30, 10+20+30+40, 10+20+30+40+45+55]"
   ]
  },
  {
   "cell_type": "markdown",
   "metadata": {
    "deletable": false,
    "editable": false,
    "id": "zPfK-imsaXPK"
   },
   "source": [
    "**Question 4.1. (2 pts)** Very often in data science, we are interested understanding how values change with time. Use `np.diff` and `np.max` (or just `max`) to calculate the largest annual change in population between any two consecutive years."
   ]
  },
  {
   "cell_type": "code",
   "execution_count": null,
   "metadata": {
    "id": "tOrXXbxEaXPL"
   },
   "outputs": [],
   "source": [
    "largest_population_change = ...\n",
    "largest_population_change"
   ]
  },
  {
   "cell_type": "code",
   "execution_count": null,
   "metadata": {
    "deletable": false,
    "id": "novAlmeuaXPL"
   },
   "outputs": [],
   "source": [
    "# Testing Question 4.1\n",
    "grader.check(\"q41\")"
   ]
  },
  {
   "cell_type": "markdown",
   "metadata": {
    "deletable": false,
    "editable": false,
    "id": "SkWiwzgvaXPL"
   },
   "source": [
    "**Question 4.2. (1 pt)** What do the values in the resulting array represent (choose one)?"
   ]
  },
  {
   "cell_type": "code",
   "execution_count": null,
   "metadata": {
    "id": "xcpuXJ3qaXPL"
   },
   "outputs": [],
   "source": [
    "np.cumsum(np.diff(population))"
   ]
  },
  {
   "cell_type": "markdown",
   "metadata": {
    "deletable": false,
    "id": "_xqadXEHaXPL"
   },
   "source": [
    "1) The total population change between consecutive years, starting at 1951.\n",
    "\n",
    "2) The total population change between 1950 and each later year, with later year starting at 1951.\n",
    "\n",
    "3) The total population change between 1950 and each later year, with later year starting inclusively at 1950."
   ]
  },
  {
   "cell_type": "code",
   "execution_count": null,
   "metadata": {
    "id": "3gbrSIsEaXPL"
   },
   "outputs": [],
   "source": [
    "# Assign cumulative_sum_answer to 1, 2, or 3\n",
    "cumulative_sum_answer = ..."
   ]
  },
  {
   "cell_type": "code",
   "execution_count": null,
   "metadata": {
    "deletable": false,
    "id": "53P-7Ge9aXPL"
   },
   "outputs": [],
   "source": [
    "# Testing Question 4.2\n",
    "grader.check(\"q42\")"
   ]
  },
  {
   "cell_type": "markdown",
   "metadata": {
    "id": "ryL3aiglaXPM"
   },
   "source": [
    "## 5. Tables\n"
   ]
  },
  {
   "cell_type": "markdown",
   "metadata": {
    "deletable": false,
    "editable": false,
    "id": "AOHTzIGWaXPM"
   },
   "source": [
    "**Question 5.1. (3 pts)** Suppose you have 4 apples, 3 oranges, and 3 pineapples.  (Perhaps you're using Python to solve a high school Algebra problem.)  Create a table that contains this information.  It should have two columns: `fruit name` and `count`.  Assign the new table to the variable `fruits`.\n",
    "\n",
    "**Note:** Use lower-case and singular words for the name of each fruit, like `\"apple\"`.\n",
    "\n",
    "[Chapter 6: Tables](https://www.inferentialthinking.com/chapters/06/Tables.html) "
   ]
  },
  {
   "cell_type": "code",
   "execution_count": null,
   "metadata": {
    "id": "B4xwRtj5aXPM"
   },
   "outputs": [],
   "source": [
    "# Our solution uses 1 statement split over 3 lines.\n",
    "fruits = ...\n",
    "         ...\n",
    "         ...\n",
    "fruits"
   ]
  },
  {
   "cell_type": "code",
   "execution_count": null,
   "metadata": {
    "deletable": false,
    "id": "m6PNTwg5aXPM"
   },
   "outputs": [],
   "source": [
    "# Testing Question 5.1\n",
    "grader.check(\"q51\") "
   ]
  },
  {
   "cell_type": "markdown",
   "metadata": {
    "deletable": false,
    "editable": false,
    "id": "mITxwHW9aXPM"
   },
   "source": [
    "**Question 5.2. (2 pts)** The file `inventory.csv` contains information about the inventory at a fruit stand.  Each row represents the contents of one box of fruit. Load it as a table named `inventory` using the `Table.read_table()` function. `Table.read_table(...)` takes one argument (data file name in string format) and returns a table."
   ]
  },
  {
   "cell_type": "code",
   "execution_count": null,
   "metadata": {
    "id": "jAPFz9sIaXPM"
   },
   "outputs": [],
   "source": [
    "inventory = ...\n",
    "inventory"
   ]
  },
  {
   "cell_type": "code",
   "execution_count": null,
   "metadata": {
    "deletable": false,
    "id": "jo4JOj01aXPN"
   },
   "outputs": [],
   "source": [
    "# Testing Question 5.2\n",
    "grader.check(\"q52\")"
   ]
  },
  {
   "cell_type": "markdown",
   "metadata": {
    "deletable": false,
    "editable": false,
    "id": "cDf20wEWaXPN"
   },
   "source": [
    "**Question 5.3. (3 pts)** How many pieces of fruit does the inventory contain?  How many pieces of strawberries does the inventory contain?"
   ]
  },
  {
   "cell_type": "code",
   "execution_count": null,
   "metadata": {
    "id": "hLIWQrF_aXPN"
   },
   "outputs": [],
   "source": [
    "total_count =  ...\n",
    "print(\"Total fruit count is \", total_count)\n",
    "strawberry_count =  ...\n",
    "print(\"Straberry count is \", strawberry_count)"
   ]
  },
  {
   "cell_type": "code",
   "execution_count": null,
   "metadata": {
    "deletable": false,
    "id": "ZDL0R-nbaXPN"
   },
   "outputs": [],
   "source": [
    "# Testing Question 5.3\n",
    "grader.check(\"q53\")  "
   ]
  },
  {
   "cell_type": "markdown",
   "metadata": {
    "deletable": false,
    "editable": false,
    "id": "jYkN6gB5aXPN"
   },
   "source": [
    "**Question 5.4. (2 pts)** The file `sales.csv` contains the number of fruit sold from each box last Saturday.  It has an extra column called \"price per fruit (\\$)\" that's the price *per item of fruit* for fruit in that box.  The rows are in the same order as the `inventory` table.  Load these data into a table called `sales`."
   ]
  },
  {
   "cell_type": "code",
   "execution_count": null,
   "metadata": {
    "id": "bqIzVDBbaXPN"
   },
   "outputs": [],
   "source": [
    "sales = ...\n",
    "sales"
   ]
  },
  {
   "cell_type": "code",
   "execution_count": null,
   "metadata": {
    "deletable": false,
    "id": "Qe8Xtw0taXPN"
   },
   "outputs": [],
   "source": [
    "# Testing Question 5.4\n",
    "grader.check(\"q54\")"
   ]
  },
  {
   "cell_type": "markdown",
   "metadata": {
    "deletable": false,
    "editable": false,
    "id": "Gc0K8tibaXPO"
   },
   "source": [
    "**Question 5.5. (2 pts)** How many fruits did the store sell in total on that day?"
   ]
  },
  {
   "cell_type": "code",
   "execution_count": null,
   "metadata": {
    "id": "ZiD4OOlLaXPO"
   },
   "outputs": [],
   "source": [
    "total_fruits_sold = ...\n",
    "total_fruits_sold"
   ]
  },
  {
   "cell_type": "code",
   "execution_count": null,
   "metadata": {
    "deletable": false,
    "id": "5Uo_q5oqaXPO"
   },
   "outputs": [],
   "source": [
    "# Testing Question 5.5\n",
    "grader.check(\"q55\")"
   ]
  },
  {
   "cell_type": "markdown",
   "metadata": {
    "deletable": false,
    "editable": false,
    "id": "3rXj66kSaXPO"
   },
   "source": [
    "**Question 5.6. (3 pts)** What was the store's total revenue (the total price of all fruits sold) on that day?\n",
    "\n",
    "*Hint:* If you're stuck, think first about how you would compute the total revenue from just the grape sales.\n"
   ]
  },
  {
   "cell_type": "code",
   "execution_count": null,
   "metadata": {
    "id": "4KaCK86daXPO"
   },
   "outputs": [],
   "source": [
    "total_revenue = ...\n",
    "total_revenue"
   ]
  },
  {
   "cell_type": "code",
   "execution_count": null,
   "metadata": {
    "deletable": false,
    "id": "tVnBbkEUaXPO"
   },
   "outputs": [],
   "source": [
    "# Testing Question 5.6\n",
    "grader.check(\"q56\")"
   ]
  },
  {
   "cell_type": "markdown",
   "metadata": {
    "deletable": false,
    "editable": false,
    "id": "8Dx6FJTBaXPO"
   },
   "source": [
    "**Question 5.7. (4 pts)** Make a new table called `remaining_inventory`.  It should have the same rows and columns as `inventory`, except that the amount of fruit sold from each box should be subtracted from that box's count, so that the \"count\" is the amount of fruit remaining after Saturday."
   ]
  },
  {
   "cell_type": "code",
   "execution_count": null,
   "metadata": {
    "id": "3CQ_YYOtaXPO"
   },
   "outputs": [],
   "source": [
    "remaining_inventory = ...\n",
    "   ...\n",
    "   ...\n",
    "   ...\n",
    "remaining_inventory"
   ]
  },
  {
   "cell_type": "code",
   "execution_count": null,
   "metadata": {
    "deletable": false,
    "id": "uiBb7ywTaXPP"
   },
   "outputs": [],
   "source": [
    "# Testing Question 5.7\n",
    "grader.check(\"q57\")"
   ]
  },
  {
   "cell_type": "markdown",
   "metadata": {},
   "source": [
    "## 6. Old Faithful"
   ]
  },
  {
   "cell_type": "markdown",
   "metadata": {},
   "source": [
    "Old Faithful is a geyser in Yellowstone that erupts every 44 to 125 minutes (according to [Wikipedia](https://en.wikipedia.org/wiki/Old_Faithful)). People are [often told that the geyser erupts every hour](http://yellowstone.net/geysers/old-faithful/), but in fact the waiting time between eruptions is more variable. Let's take a look."
   ]
  },
  {
   "cell_type": "code",
   "execution_count": null,
   "metadata": {},
   "outputs": [],
   "source": [
    "old_faithful = Table.read_table('old_faithful.csv')\n",
    "old_faithful"
   ]
  },
  {
   "cell_type": "markdown",
   "metadata": {},
   "source": [
    "The column 'waiting' corresponds to waiting times between eruptions.  For example, the time between the end of the first eruption (the first eruption lasted 3.6 minutes) and the beginning of the second eruption is 79 minutes. Below `waiting_times` is assigned to an array of 272 consecutive waiting times between eruptions, taken from a classic 1938 dataset."
   ]
  },
  {
   "cell_type": "code",
   "execution_count": null,
   "metadata": {},
   "outputs": [],
   "source": [
    "waiting_times = old_faithful.column('waiting')\n",
    "waiting_times"
   ]
  },
  {
   "cell_type": "markdown",
   "metadata": {
    "deletable": false,
    "editable": false,
    "tags": []
   },
   "source": [
    "##### **Question 6.1. (3 pts)**  Assign the names `shortest`, `longest`, and `average` so that the `print` statement is correct. "
   ]
  },
  {
   "cell_type": "code",
   "execution_count": null,
   "metadata": {},
   "outputs": [],
   "source": [
    "shortest = ...\n",
    "longest = ...\n",
    "average = ...\n",
    "\n",
    "print(\"Old Faithful erupts every\", shortest, \"to\", longest, \"minutes and every\", average, \"minutes on average.\")"
   ]
  },
  {
   "cell_type": "code",
   "execution_count": null,
   "metadata": {},
   "outputs": [],
   "source": [
    "grader.check(\"q61\")"
   ]
  },
  {
   "cell_type": "markdown",
   "metadata": {
    "deletable": false,
    "editable": false,
    "tags": []
   },
   "source": [
    "**Question 6.2. (2 pts)** Assign `biggest_decrease` to the biggest decrease in waiting time between two consecutive eruptions. For example, the third eruption occurred after 74 minutes and the fourth after 62 minutes, so the decrease in waiting time was 74 - 62 = 12 minutes.\n",
    "\n",
    "*Hint*: We want to return the absolute value of the biggest decrease.\n",
    "\n",
    "*Note*: `np.diff()` calculates the difference between subsequent values in an array. For example, calling `np.diff()` on the array `make_array(1, 8, 3, 5)` evaluates to `array([8 - 1, 3 - 8, 5 - 3])`, or `array([7, -5, 2])`.\n"
   ]
  },
  {
   "cell_type": "code",
   "execution_count": null,
   "metadata": {},
   "outputs": [],
   "source": [
    "# np.diff() calculates the difference between subsequent values in a NumPy array.\n",
    "differences = np.diff(waiting_times)\n",
    "biggest_decrease = ...\n",
    "biggest_decrease"
   ]
  },
  {
   "cell_type": "code",
   "execution_count": null,
   "metadata": {},
   "outputs": [],
   "source": [
    "grader.check(\"q62\")"
   ]
  },
  {
   "cell_type": "markdown",
   "metadata": {
    "deletable": false,
    "editable": false,
    "tags": []
   },
   "source": [
    "**Question 6,3. (4 pts)** The `faithful_with_eruption_nums` table contains two columns: `eruption_number`, which represents the number of that eruption, and `waiting`, which represents the time spent waiting after that eruption. For example, take the first two rows of the table:\n",
    "\n",
    "| eruption number | waiting |\n",
    "|-----------------|---------|\n",
    "| 1               | 79      |\n",
    "| 2               | 54      |\n",
    "\n",
    "We can read this as follows: after the first eruption, we waited 79 minutes for the second eruption. Then, after the second eruption, we waited 54 minutes for the third eruption.  So we waited a total of 133 minutes between the first and the third eruptions.  \n",
    "\n",
    "Suppose Oscar and Wendy started watching Old Faithful at the start of the first eruption. Assume that they watch until the end of the tenth eruption. For some of that time they will be watching eruptions, and for the rest of the time they will be waiting for Old Faithful to erupt. How many minutes will they spend waiting for eruptions? \n",
    "\n",
    "*Hint #1:* You can start by using the `take` method on the table `faithful_with_eruption_nums`. \n",
    "\n",
    "*Hint #2:* `first_nine_waiting_times` must be an array.\n"
   ]
  },
  {
   "cell_type": "code",
   "execution_count": null,
   "metadata": {},
   "outputs": [],
   "source": [
    "faithful = old_faithful.drop(\"eruptions\")\n",
    "faithful_with_eruption_nums = faithful.with_column(\"eruption number\", np.arange(faithful.num_rows) + 1).select(1, 0)\n",
    "faithful_with_eruption_nums"
   ]
  },
  {
   "cell_type": "code",
   "execution_count": null,
   "metadata": {},
   "outputs": [],
   "source": [
    "first_nine_waiting_times = ...\n",
    "total_waiting_time_until_tenth = ...\n",
    "total_waiting_time_until_tenth"
   ]
  },
  {
   "cell_type": "code",
   "execution_count": null,
   "metadata": {},
   "outputs": [],
   "source": [
    "grader.check(\"q63\")"
   ]
  },
  {
   "cell_type": "markdown",
   "metadata": {},
   "source": [
    "---\n",
    "\n",
    "To double-check your work, the cell below will rerun all of the autograder tests."
   ]
  },
  {
   "cell_type": "code",
   "execution_count": null,
   "metadata": {},
   "outputs": [],
   "source": [
    "grader.check_all()"
   ]
  },
  {
   "cell_type": "markdown",
   "metadata": {
    "id": "f9hZb37MaXPP"
   },
   "source": [
    "## 7. Save, Download, and Submit\n",
    "\n",
    "Good job!  You've completed Homework 2!\n",
    "\n",
    "Please save your notebook, download a pdf version of the notebook, and submit it to Gradescope (see instructions in Homework 1)."
   ]
  }
 ],
 "metadata": {
  "celltoolbar": "Edit Metadata",
  "colab": {
   "name": "hw02_Arrays_Tables.ipynb",
   "provenance": []
  },
  "kernelspec": {
   "display_name": "Python 3 (ipykernel)",
   "language": "python",
   "name": "python3"
  },
  "language_info": {
   "codemirror_mode": {
    "name": "ipython",
    "version": 3
   },
   "file_extension": ".py",
   "mimetype": "text/x-python",
   "name": "python",
   "nbconvert_exporter": "python",
   "pygments_lexer": "ipython3",
   "version": "3.9.12"
  }
 },
 "nbformat": 4,
 "nbformat_minor": 4
}
